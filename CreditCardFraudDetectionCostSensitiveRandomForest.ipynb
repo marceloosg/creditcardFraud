{
 "cells": [
  {
   "cell_type": "markdown",
   "metadata": {
    "collapsed": true
   },
   "source": [
    "# Creditcard Fraud Detection with Cost Sensitive Random Forest.\n",
    "\n",
    "$~$\n",
    "\n",
    "$~$\n",
    "\n",
    "$~$\n",
    "\n",
    "<center>Marcelo de Oliveira Silva Guimarães</center>\n",
    "<center> Aug, 21, 2017 </center>\n",
    "\n",
    "$~$\n",
    "\n",
    "$~$\n",
    "\n",
    "In this notebook, the creditcard dataset from [kaggle](https://www.kaggle.com/dalpozz/creditcardfraud) is studied$^1$. This dataset contains a extremally unbalanced class distribuition:  492 frauds out of 284,807 transactions. We perform an exploratory analysis on the dataset followed by the application \n",
    "random forest classifier and then a sampled weighted random forest. We use a cost function applied to the random forest model to obtain the best performance based on the lowest cost that a credit card operator would have. \n",
    "This notebook is organized in the following way: first we present a brief introduction about handling unbalanced class and the metrics for algorithm performance. Then we present a exploratory analysis of the data. Finally we apply the chosen model to the data and discuss the results. We found that the cost matrix produced best results only on the training dataset. \n",
    "In future endeavors the same procedure could be applied to logistic boost regression and SVM, alternatively one could try to use SMOTE in an attempt to remove the overfitting caused by the cost function. \n",
    "\n",
    "$^1$ Andrea Dal Pozzolo, Olivier Caelen, Reid A. Johnson and Gianluca Bontempi. Calibrating Probability with Undersampling for Unbalanced Classification. In Symposium on Computational Intelligence and Data Mining (CIDM), IEEE, 2015\n"
   ]
  },
  {
   "cell_type": "markdown",
   "metadata": {},
   "source": [
    "## Introduction\n",
    "\n",
    "### Sampling\n",
    "There several ways of dealing with clafficication with unbalanced classes we are going to overview three:\n",
    "\n",
    "1. Oversampling\n",
    "2. Undersampling\n",
    "3. Smote\n",
    "\n",
    "#### 1 - Oversampling\n",
    "One can increase the number of samples of the minority class by taking more samples than it is availble. The problem with this approuch is that it is prone to overfiting since there will be a strong correlation between samples of the minority class.\n",
    "\n",
    "#### 2- Undersamplig\n",
    "This rebalance procedure consists in downsizing the majority class samples by selecting a number of random samples of the majority class equal to the number of samples of the minority class. The logic behind this procedure is that much of the majority samples are correlated and a great portion of the data can be removed without losing information.\n",
    "Since this procedure is unsupervised there is a risk of losing relevant information. Some algorithms like LogitBoost are very sensitive to the prior probabilities. When one performs a undersampling procedure these prior probabilities are altered which shifts the cutoff probability by which the algorithm classify one class as positive. This shift in the cutoff probability can be calculted and It is described by Pozzolo et al$^1$.\n",
    "\n",
    "#### 3-Smote\n",
    "In order to coupe with the above mentioned issues, the Smote oversampling process was developed. Smote stands for Synthetic Minority Oversampling TEchnique. It consists in oversampling the minority samples by interpolating samples  of the same class. This has the effect of creating clusters around each sample, while the samples are correlated they are not as correlated as simple oversampling. \n",
    "\n",
    "### Metrics\n",
    "Usually Accuracy and AUC ROC (Area Under the Curve of Receiving Operating Characteristic curve) are the common metrics for performance measure of the classification algorithm. However in unbalance dataset these measures can be deceiving.\n",
    "If the Accuracy is close to the prior probability of the majority class no information is gained with the algorithm, i. e., the algorithm simply guess the majority class as the predicted one regardless of any features of the samples. \n",
    "The Recall and Precision are more apropriated metrics to deal with unbalanced class.\n",
    "The $F_1$ measure combine both of these measures giving equal weight.\n",
    "These are defined as follows:\n",
    "\n",
    "\n",
    "\n",
    "|  |                                              |                                   |\n",
    "| -- |--------------------------------------------- | ----------------------------------|\n",
    "|  |        $TP$ =  True Positive  | $FN $=  False Positive|\n",
    "|$Recall $  |$\\frac{TP}{(FN+TP)}$ | $κ=Kappa =$ $\\frac{(p_0 -p_e )}{(1-p_e )}$ |\n",
    "|$Precision $  | $\\frac{TP}{(FP+TP)}$ | $p_0 =$ Relative Observed Agreement |\n",
    "|$F_1 $  |$ \\frac{Precision*Recall}{(Precision+Recall)}~ $  | $p_e =$ Random Chance Agreement |\n",
    "|$Accuracy$| $\\frac{(TP+TN)}{(TP+TN+FP+FN)}$    | |\n",
    "\n",
    "Pozollo suggests measuring the accuracy using the Area Under the Precision-Recall Curve (AUPRC). This metric is defined here as \"Averaged Precision\". \n",
    "\n",
    "We define custom measurements based on cost:\n",
    "\n",
    " **Cost measure **: It is the cost associated with each possible outcome of a prediction:\n",
    "\n",
    "1. **False Positive**: In the present scenario indicates the cost associated with detecting a fraud where none exists. It is the cost associated with the investigation of the fraud.\n",
    "2. **False Negative**: It happens when the algorithm fails to detect a fraud. The cost associated with that ocurrency is the value of the transaction itself.\n",
    "3. **True Positive**: The algorithm identifies the fraudulent transaction successfully. There are no cost associated with this event.\n",
    "4. **True Negative**: The algorithm identifies correctly the transaction as normal. There are no cost associated with this event.\n",
    "\n",
    "** Savings measure **: It is the amount that is saved if compared with the decision of a normal random forest. It is implement in the *costcla* package."
   ]
  },
  {
   "cell_type": "markdown",
   "metadata": {},
   "source": [
    "## Exploratory Analisys"
   ]
  },
  {
   "cell_type": "code",
   "execution_count": 1,
   "metadata": {
    "collapsed": true
   },
   "outputs": [],
   "source": [
    "#Loading Libraries\n",
    "import numpy as np\n",
    "import pandas as pd\n",
    "from sklearn.model_selection import train_test_split\n",
    "load_cached_results=False"
   ]
  },
  {
   "cell_type": "code",
   "execution_count": 2,
   "metadata": {
    "collapsed": true
   },
   "outputs": [],
   "source": [
    "# Loading dataset\n",
    "dfs=pd.read_csv('creditcard.csv')"
   ]
  },
  {
   "cell_type": "code",
   "execution_count": 3,
   "metadata": {
    "collapsed": true
   },
   "outputs": [],
   "source": [
    "# Separating Class, features and indices\n",
    "y_all=dfs[\"Class\"]\n",
    "X_all=dfs.iloc[:,0:30]\n",
    "indices=np.arange(dfs.shape[0])"
   ]
  },
  {
   "cell_type": "code",
   "execution_count": 4,
   "metadata": {
    "collapsed": true
   },
   "outputs": [],
   "source": [
    "# Reserve 20% of data for final performance test\n",
    "X_train,X_test,Y_train,Y_test,indices_train,indices_test=train_test_split(X_all,y_all,indices,stratify=y_all,random_state=814,test_size=0.20)"
   ]
  },
  {
   "cell_type": "code",
   "execution_count": 5,
   "metadata": {},
   "outputs": [
    {
     "data": {
      "text/plain": [
       "[0.0017292457591783889, 227845, 0.0017204452090867595, 56962]"
      ]
     },
     "execution_count": 5,
     "metadata": {},
     "output_type": "execute_result"
    }
   ],
   "source": [
    "#Verifying that data was correctly stratified\n",
    "[Y_train.mean(),len(Y_train),\n",
    "Y_test.mean(),len(Y_test)]\n"
   ]
  },
  {
   "cell_type": "code",
   "execution_count": 161,
   "metadata": {},
   "outputs": [],
   "source": [
    "# Let just look to the data to see if anything pops out\n",
    "#dfs.describe()\n",
    "from sklearn.ensemble import RandomForestClassifier\n",
    "from sklearn.cross_validation import train_test_split\n",
    "from costcla.datasets import load_creditscoring1\n",
    "from costcla.models import CostSensitiveRandomForestClassifier\n",
    "from costcla.metrics import savings_score\n",
    "#data= load_creditscoring1()\n",
    "#sets= train_test_split(data.data, data.target, data.cost_mat, test_size=0.33, random_state=0)\n",
    "#X_train, X_test, y_train, y_test, cost_mat_train, cost_mat_test= sets\n",
    "rf= RandomForestClassifier(random_state=0).fit(X_train, Y_train)\n",
    "y_pred_test_rf=rf.predict(X_test)\n",
    "f= CostSensitiveRandomForestClassifier()\n",
    "csdt= f.fit(np.array(X_train), np.array(Y_train), np.array(cond(X_train)))\n",
    "y_pred_test_csdt=csdt.predict(np.array(X_test))\n",
    "\n",
    "#print(savings_score(Y_test, y_pred_test_csdt, cond(X_test)))\n"
   ]
  },
  {
   "cell_type": "code",
   "execution_count": 162,
   "metadata": {},
   "outputs": [
    {
     "name": "stdout",
     "output_type": "stream",
     "text": [
      "0.705624392996\n",
      "0.774192053977\n"
     ]
    }
   ],
   "source": [
    "# Savingsusing only RandomForest\n",
    "print(savings_score(np.array(Y_test), np.array(y_pred_test_rf), np.array(cond(X_test))))\n",
    "# Savingsusing CostSensitiveRandomForestClassifier\n",
    "print(savings_score(np.array(Y_test), np.array(y_pred_test_csdt), np.array(cond(X_test))))\n"
   ]
  },
  {
   "cell_type": "markdown",
   "metadata": {},
   "source": [
    "## Function Definitions"
   ]
  },
  {
   "cell_type": "code",
   "execution_count": 80,
   "metadata": {},
   "outputs": [
    {
     "name": "stdout",
     "output_type": "stream",
     "text": [
      "The scikit-learn version is 0.19.0.\n"
     ]
    }
   ],
   "source": [
    "import sklearn\n",
    "print('The scikit-learn version is {}.'.format(sklearn.__version__))\n",
    "from sklearn.ensemble import RandomForestClassifier\n",
    "from sklearn import metrics\n",
    "from sklearn.model_selection import cross_validate\n",
    "from sklearn.metrics import make_scorer\n",
    "from costcla.models import CostSensitiveRandomForestClassifier\n",
    "from costcla.metrics import savings_score\n",
    "import sklearn.model_selection \n",
    "import pandas as pd\n",
    "import os\n"
   ]
  },
  {
   "cell_type": "code",
   "execution_count": 116,
   "metadata": {},
   "outputs": [],
   "source": [
    "# Logical Functions\n",
    "from costcla.metrics import savings_score\n",
    "import time\n",
    "import pickle\n",
    "from sys import stdout\n",
    "refresh=stdout.flush \n",
    "\n",
    "class Timer:\n",
    "    def __enter__(self):\n",
    "        self.start = time.clock()\n",
    "        return self\n",
    "\n",
    "    def __exit__(self, *args):\n",
    "        self.end = time.clock()\n",
    "        self.interval = self.end - self.start\n",
    "\n",
    "def costPerformance(X,Y_true,Y_pred):\n",
    "    \n",
    "    if(len(X) != len(Y_true)):\n",
    "      raise ValueError('Length of X and Y do not match')\n",
    "    # In case of False Negative the credit operator assumes the cost of the fraudulent transaction:\n",
    "    Y_pred=np.array(Y_pred)\n",
    "    Y_true=np.array(Y_true)    \n",
    "    #FNcost=sum(X.iloc[np.where((((Y_pred==0)+0) * (Y_true==1))==1)].Amount)\n",
    "    FNcost=sum((X[np.where((((Y_pred==0)+0) * (Y_true==1))==1),np.shape(X)[1]-1])[0])\n",
    "    # In case of False Positive the credit operator assumes the cost of verifying the transaction(calling the costumer, investigating):\n",
    "    # Here we assume a cost of 1 $ per instance \n",
    "    cost_per_instance=1\n",
    "    FPcost=sum(((Y_pred==1)+0) * (Y_true==0))*cost_per_instance\n",
    "    #Return the cost by number of transations\n",
    "    return ((FPcost+FNcost)/len(X))\n",
    "\n",
    "def fpfncost(X,i):\n",
    "\n",
    "    return([1,X[i,np.shape(X)[1]-1],0,0])\n",
    "\n",
    "def costScorer(cutoff=0.5):\n",
    "    def cost(estimator,X,y_true):\n",
    "        y_pred=(estimator.predict_proba(X)[:,1]>cutoff)+0\n",
    "        return costPerformance(X,y_true,y_pred)\n",
    "    return cost\n",
    "\n",
    "def cond(X):\n",
    "    X=np.array(X)\n",
    "#    return np.array(([fpfncost(X,i) for i in range(len(X.index))]))\n",
    "    return np.array(([fpfncost(X,i) for i in range(np.shape(X)[0])]))\n",
    "\n",
    "def savingScorer(cutoff=0.5):\n",
    "    def saving(estimator,X,y_true):\n",
    "        y_pred=(estimator.predict_proba(X)[:,1]>cutoff)+0\n",
    "        cost_mat=cond(np.array(X))\n",
    "        return savings_score(y_true,y_pred,cost_mat)\n",
    "    return saving\n",
    "\n",
    "def WeightedRandomForestClassifier(X_train,\n",
    "                                   Y_train,\n",
    "                                   step=1,\n",
    "                                   max_iter=10, \n",
    "                                   sample_weight=None,\n",
    "                                   random_state=1814,\n",
    "                                   cutoff=0.5):\n",
    "    X_train.reset_index(drop=True)\n",
    "    scores=[]\n",
    "    if(sample_weight is None):\n",
    "        par=dict({'sample_weight' : sample_weight})\n",
    "        step=5\n",
    "        rfc = RandomForestClassifier(n_estimators=step, warm_start=True,random_state=random_state)\n",
    "    else:\n",
    "        cost_mat=cond(X_train)\n",
    "        #cost_mat=np.array([fpfncost(X_train,i) for i in range(len(X_train.index))])\n",
    "        par=dict({'cost_mat' : cost_mat})\n",
    "        rfc = CostSensitiveRandomForestClassifier(n_estimators=step)\n",
    "        \n",
    "    \n",
    "    scoring = {'precision_macro':'precision_macro',\n",
    "               'recall_macro':'recall_macro',\n",
    "               'f1_macro':'f1_macro',\n",
    "               'average_precision':'average_precision',\n",
    "               'kappa':make_scorer(metrics.cohen_kappa_score),\n",
    "               'cost':costScorer(cutoff),\n",
    "               'saving':savingScorer(cutoff)\n",
    "               }\n",
    "    \n",
    "    for n in range(max_iter):\n",
    "        print(\"\\t RandomForestIteration \"+str(n) )\n",
    "        stdout.flush()\n",
    "        with Timer() as t:\n",
    "            score = cross_validate(rfc, np.array(X_train), np.array(Y_train), scoring=scoring,cv=5,fit_params=par)\n",
    "        print(\"\\t \\t took \" + str(int(t.interval))+ \" seconds\")\n",
    "        stdout.flush()\n",
    "        rfc.n_estimators += step\n",
    "        scores.append(score)\n",
    "    return((scores,rfc))\n",
    "\n",
    "def getDfScores(scores,max_iter):\n",
    "    measures=scores[1].keys()\n",
    "    for measure in measures:\n",
    "        for i in range(max_iter):\n",
    "            yield(i,measure,scores[i][measure].mean(),scores[i][measure].std())\n",
    "\n",
    "def getResults(scores,max_iter=10):            \n",
    "    results=[row for row in getDfScores(scores,max_iter)]\n",
    "    df_results=pd.DataFrame(results,columns=[\"iteration\",\"measure\",\"mean\",\"std\"])\n",
    "    return(df_results)\n",
    "\n",
    "def getDfScoresRaw(scores,max_iter=10):            \n",
    "    measures=scores[1].keys()\n",
    "\n",
    "    for measure in measures:\n",
    "        for i in range(max_iter):\n",
    "            yield(i,measure,(scores[i][measure]))\n",
    "            \n",
    "def getResultsRaw(scores,max_iter=10):            \n",
    "    results=[row for row in getDfScoresRaw(scores,max_iter)]\n",
    "    df_results=pd.DataFrame(results,columns=[\"iteration\",\"measure\",\"plot\"])\n",
    "    return(df_results)\n",
    "\n",
    "def filterResults(df,Iter=0,partition='train'):\n",
    "    return(df[(df.iteration==Iter).ravel() & df.measure.apply(lambda x: x.split('_')[0] ==partition).ravel() ])\n",
    "\n",
    "def savingsThreshold(X,Y,estimators,thrl):\n",
    "    X_train,X_test,Y_train,Y_test=train_test_split(X,Y,stratify=Y,test_size=0.20)\n",
    "    times=list()\n",
    "    fits=list()\n",
    "    for it in estimators:\n",
    "        print('\\t Starting model at iteraction '+str(it))\n",
    "        stdout.flush()\n",
    "        with Timer() as t:\n",
    "            cost_mat=cond(X_train)\n",
    "            rfc = CostSensitiveRandomForestClassifier(n_estimators=it+1)\n",
    "            fits.append(rfc.fit(np.array(X_train),np.array(Y_train),cost_mat=np.array(cost_mat)))\n",
    "        times.append(t.interval)\n",
    "        print('\\t\\t took '+str(int(t.interval))+' seconds to fit')\n",
    "        refresh()\n",
    "    \n",
    "    results=dict()\n",
    "    result=[[savings_score(Y_train,(z.predict_proba(np.array(X_train)) > thr)[:,1],cost_mat=cond(X_train)) for thr in thrl] for z in fits]\n",
    "    results['train']=pd.DataFrame(result,columns=[str(e) for e in thrl],index=np.array((estimators))+1)\n",
    "    result=[[savings_score(Y_test,(z.predict_proba(np.array(X_test)) > thr)[:,1],cost_mat=cond(X_test)) for thr in thrl] for z in fits]\n",
    "    results['test']=pd.DataFrame(result,columns=[str(e) for e in thrl],index=np.array((estimators))+1)    \n",
    "    return((results,times,fits))\n",
    "\n",
    "def getSavings(X,Y,realizations=5,estimators=np.array(range(5)),label=\"\",thrl=np.array(range(18))*0.05+0.1):\n",
    "    results=list()\n",
    "    for it in range(realizations):\n",
    "        print('savings iteration '+str(it))\n",
    "        stdout.flush()\n",
    "        data=savingsThreshold(X,Y,estimators,thrl)\n",
    "     #   print('  iteration '+str(it)+ ' finished')\n",
    "     #   stdout.flush()\n",
    "        checkpoint=open('savings_'+label+str(it)+'.pkl','wb')\n",
    "        pickle.dump(data,checkpoint)\n",
    "        checkpoint.close()\n",
    "        results.append(data)\n",
    "    return(results)\n",
    "\n",
    "# Plot Functions\n",
    "import matplotlib.patches as mpatches\n",
    "import matplotlib.pyplot as plt\n",
    "%matplotlib inline\n",
    "from pprint import pprint\n",
    "from IPython.display import display\n",
    "\n",
    "\n",
    "\n",
    "def plotSavings(results,partition='test'):\n",
    "    it=0\n",
    "    for data in results:\n",
    "        (result,times,fits)=data\n",
    "        result=result[partition]\n",
    "        if(it==0):\n",
    "            fresult=result\n",
    "        else:\n",
    "            fresult=fresult+result\n",
    "        it+=1\n",
    "    xx=fresult.columns\n",
    "    yy=fresult.index\n",
    "    xx,yy=np.meshgrid(xx,yy)\n",
    "    cs=plt.contourf(xx,yy,fresult/it)\n",
    "    plt.colorbar(cs)\n",
    "    #plt.clabel(cs, inline=1, fontsize=10)\n",
    "    plt.title(\"Savings for \"+partition+\" dataset with \"+ str(it)+ \" iteractions\")\n",
    "    plt.xlabel(\"Cutoff probability\")\n",
    "    plt.ylabel(\"Iterations\")\n",
    "    plt.show()\n",
    "    \n",
    "def plotSavingsError(results,partition='test'):\n",
    "    it=0\n",
    "    for data in results:\n",
    "        (result,times,fits)=data\n",
    "        result=result[partition]\n",
    "        if(it==0):\n",
    "            fresult=result\n",
    "        else:\n",
    "            fresult=fresult+result\n",
    "        it+=1\n",
    "    fresult=fresult/it\n",
    "    error=0\n",
    "    it=0\n",
    "    for data in results:\n",
    "        (result,times,fits)=data\n",
    "        result=result[partition]\n",
    "        if(it==0):\n",
    "            error=(fresult-result)*(fresult-result)\n",
    "        else:\n",
    "            error=error+(fresult-result)*(fresult-result)\n",
    "        it+=1\n",
    "    fresult=error/it\n",
    "    xx=fresult.columns\n",
    "    yy=fresult.index\n",
    "    xx,yy=np.meshgrid(xx,yy)\n",
    "    cs=plt.contourf(xx,yy,fresult)\n",
    "    plt.colorbar(cs)\n",
    "   #plt.clabel(cs, inline=1, fontsize=10)\n",
    "    plt.title(\"Savings for \"+partition+\" dataset with \"+ str(it)+ \" iteractions\")\n",
    "    plt.xlabel(\"Cutoff probability\")\n",
    "    plt.ylabel(\"Iterations\")\n",
    "    plt.show()\n",
    "        \n",
    "def myplot(measure,raw):\n",
    "    variant=[\"train_\",\"test_\"]\n",
    "    if(measure=='time'):\n",
    "        variant=[\"fit_\",\"score_\"]\n",
    "    # Create a figure instance\n",
    "    fig = plt.figure(1, figsize=(9, 6))\n",
    "\n",
    "    # Create an axes instance\n",
    "    ax = fig.add_subplot(111)\n",
    "    \n",
    "    # Create the boxplot\n",
    "    data_to_plot = (list(raw[raw.measure == variant[0]+measure]['plot']))\n",
    "    bplot1 = ax.boxplot(data_to_plot, patch_artist=True)\n",
    "\n",
    "    data_to_plot = (list(raw[raw.measure == variant[1]+measure]['plot']))\n",
    "    bplot2 = ax.boxplot(data_to_plot, patch_artist=True)\n",
    "\n",
    "    colors = ['red', 'green']\n",
    "    labels = variant\n",
    "    patches = list()\n",
    "    patches.append(mpatches.Patch(color=colors[0], label=labels[0]))\n",
    "    patches.append(mpatches.Patch(color=colors[1], label=labels[1]))\n",
    "\n",
    "    plt.legend(handles=patches)\n",
    "    ci = 0\n",
    "    for bplot in (bplot1, bplot2):\n",
    "        for patch in bplot['boxes']:\n",
    "            patch.set_facecolor(colors[ci])\n",
    "        ci = ci + 1\n",
    "\n",
    "    plt.xlabel('number of iterations')\n",
    "    plt.ylabel(measure+' Score')\n",
    "    plt.show()\n",
    "    \n",
    "def barPlot(df_results):\n",
    "    plt.figure()\n",
    "    z=df_results[(df_results.measure != 'fit_time').ravel() & df_results.measure.apply(lambda x: x.split('_')[0]=='train' ).ravel()  ].pivot(index='iteration',columns='measure',values='mean').plot(kind='bar').legend(bbox_to_anchor=(1.2, 0.5))\n",
    "    plt.title(\"Train set: Measures vs Iteration\")\n",
    "    z=df_results[(df_results.measure != 'fit_time').ravel() & df_results.measure.apply(lambda x: x.split('_')[0]=='train' ).ravel()  ].pivot(index='iteration',columns='measure',values='std').plot(kind='bar').legend(bbox_to_anchor=(1.2, 0.5))\n",
    "    plt.title(\"Train set: Measures errors vs Iteration\")\n",
    "    z=df_results[(df_results.measure != 'fit_time').ravel() & df_results.measure.apply(lambda x: x.split('_')[0]=='test' ).ravel()  ].pivot(index='iteration',columns='measure',values='mean').plot(kind='bar').legend(bbox_to_anchor=(1.2, 0.5))\n",
    "    plt.title(\"Test set: Measures vs Iteration\")\n",
    "    z=df_results[(df_results.measure != 'fit_time').ravel() & df_results.measure.apply(lambda x: x.split('_')[0]=='test' ).ravel()  ].pivot(index='iteration',columns='measure',values='std').plot(kind='bar').legend(bbox_to_anchor=(1.2, 0.5))\n",
    "    plt.title(\"Test set: Measures errors vs Iteration\")\n",
    "    plt.show()\n",
    "    \n",
    "def plotPerformanceConvergence(scores,df_results,max_iter=10):\n",
    "    df_results.sort_values('measure')\n",
    "    raw=getResultsRaw(scores,max_iter)\n",
    "    df_resultsNoCost=df_results[df_results.measure.apply(lambda x: x.split(\"_\")[1] not in [\"cost\",\"saving\"])]\n",
    "    df_resultsCost=df_results[df_results.measure.apply(lambda x: x.split(\"_\")[1] in [\"cost\",\"saving\"])]    \n",
    "    myplot(\"f1_macro\",raw)\n",
    "    myplot(\"recall_macro\",raw)\n",
    "    myplot(\"precision_macro\",raw)\n",
    "    myplot(\"time\",raw)\n",
    "    barPlot(df_resultsNoCost)\n",
    "    barPlot(df_resultsCost)\n",
    "    display(filterResults(df_results.sort_values('measure'),max_iter-1))\n",
    "    display(filterResults(df_results.sort_values('measure'),max_iter-1,'test'))\n",
    "    \n",
    "  "
   ]
  },
  {
   "cell_type": "markdown",
   "metadata": {},
   "source": [
    "\n",
    "## Undersampling\n",
    "\n",
    "Here we undersample the normal samples down to the same number of fraud samples the final set is 90% normal 10% fraud.\n",
    "The data will remain unbalanced so we can make sure we can address this problem before applying the final solution to the Test dataset. The choice to undersamplel to this ratio was defined arbitraly."
   ]
  },
  {
   "cell_type": "code",
   "execution_count": 83,
   "metadata": {
    "collapsed": true
   },
   "outputs": [],
   "source": [
    "from numpy.random import choice as sample\n",
    "fraud_indexes=indices_train[np.where(Y_train==1)]\n",
    "normal_indexes=indices_train[np.where(Y_train==0)]\n",
    "undersampled_normal_indexes=sample(normal_indexes,len(fraud_indexes),False)\n",
    "undersampled_indexes=list(fraud_indexes)+list(undersampled_normal_indexes)\n",
    "X_under=X_all.iloc[undersampled_indexes]\n",
    "Y_under=y_all.iloc[undersampled_indexes]"
   ]
  },
  {
   "cell_type": "markdown",
   "metadata": {},
   "source": [
    "## Random Forest with default class weights\n",
    "In this section we run a RandomForestClassifier start with 5 estimators. We run a total of 10 iteration and at each iteration we conduct a 5 fold cross-validation and increment 5 estimators."
   ]
  },
  {
   "cell_type": "code",
   "execution_count": 84,
   "metadata": {},
   "outputs": [
    {
     "name": "stdout",
     "output_type": "stream",
     "text": [
      "\t RandomForestIteration 0\n",
      "\t \t took 0 seconds\n",
      "\t RandomForestIteration 1\n",
      "\t \t took 0 seconds\n",
      "\t RandomForestIteration 2\n",
      "\t \t took 0 seconds\n",
      "\t RandomForestIteration 3\n",
      "\t \t took 0 seconds\n",
      "\t RandomForestIteration 4\n",
      "\t \t took 0 seconds\n",
      "\t RandomForestIteration 5\n",
      "\t \t took 0 seconds\n",
      "\t RandomForestIteration 6\n",
      "\t \t took 0 seconds\n",
      "\t RandomForestIteration 7\n",
      "\t \t took 0 seconds\n",
      "\t RandomForestIteration 8\n",
      "\t \t took 0 seconds\n",
      "\t RandomForestIteration 9\n",
      "\t \t took 0 seconds\n"
     ]
    }
   ],
   "source": [
    "(scores,rfc)=WeightedRandomForestClassifier(X_under,Y_under, sample_weight=None,cutoff=0.5)\n",
    "df_results=getResults(scores)"
   ]
  },
  {
   "cell_type": "code",
   "execution_count": 85,
   "metadata": {},
   "outputs": [
    {
     "data": {
      "image/png": "[encoded data removed]",
      "text/plain": [
       "<matplotlib.figure.Figure at 0x7fadb93265d0>"
      ]
     },
     "metadata": {},
     "output_type": "display_data"
    },
    {
     "data": {
      "image/png": "[encoded data removed]",
      "text/plain": [
       "<matplotlib.figure.Figure at 0x7fadb9558f90>"
      ]
     },
     "metadata": {},
     "output_type": "display_data"
    },
    {
     "data": {
      "image/png": "[encoded data removed]",
      "text/plain": [
       "<matplotlib.figure.Figure at 0x7fadbcafb390>"
      ]
     },
     "metadata": {},
     "output_type": "display_data"
    },
    {
     "data": {
      "image/png": "[encoded data removed]",
      "text/plain": [
       "<matplotlib.figure.Figure at 0x7fadb93ccf10>"
      ]
     },
     "metadata": {},
     "output_type": "display_data"
    },
    {
     "data": {
      "text/plain": [
       "<matplotlib.figure.Figure at 0x7fadb8f6c150>"
      ]
     },
     "metadata": {},
     "output_type": "display_data"
    },
    {
     "data": {
      "image/png": "[encoded data removed]",
      "text/plain": [
       "<matplotlib.figure.Figure at 0x7fadc50978d0>"
      ]
     },
     "metadata": {},
     "output_type": "display_data"
    },
    {
     "data": {
      "image/png": "[encoded data removed]",
      "text/plain": [
       "<matplotlib.figure.Figure at 0x7fadb9580510>"
      ]
     },
     "metadata": {},
     "output_type": "display_data"
    },
    {
     "data": {
      "image/png": "[encoded data removed]",
      "text/plain": [
       "<matplotlib.figure.Figure at 0x7fadb9d436d0>"
      ]
     },
     "metadata": {},
     "output_type": "display_data"
    },
    {
     "data": {
      "image/png": "[encoded data removed]",
      "text/plain": [
       "<matplotlib.figure.Figure at 0x7fadb99171d0>"
      ]
     },
     "metadata": {},
     "output_type": "display_data"
    },
    {
     "data": {
      "text/plain": [
       "<matplotlib.figure.Figure at 0x7fadb9644210>"
      ]
     },
     "metadata": {},
     "output_type": "display_data"
    },
    {
     "data": {
      "image/png": "[encoded data removed]",
      "text/plain": [
       "<matplotlib.figure.Figure at 0x7fadb9cfdbd0>"
      ]
     },
     "metadata": {},
     "output_type": "display_data"
    },
    {
     "data": {
      "image/png": "[encoded data removed]",
      "text/plain": [
       "<matplotlib.figure.Figure at 0x7fadb9e6e8d0>"
      ]
     },
     "metadata": {},
     "output_type": "display_data"
    },
    {
     "data": {
      "image/png": "[encoded data removed]",
      "text/plain": [
       "<matplotlib.figure.Figure at 0x7fadb969d190>"
      ]
     },
     "metadata": {},
     "output_type": "display_data"
    },
    {
     "data": {
      "image/png": "[encoded data removed]",
      "text/plain": [
       "<matplotlib.figure.Figure at 0x7fadb9cd0f10>"
      ]
     },
     "metadata": {},
     "output_type": "display_data"
    },
    {
     "data": {
      "text/html": [
       "<div>\n",
       "<style>\n",
       "    .dataframe thead tr:only-child th {\n",
       "        text-align: right;\n",
       "    }\n",
       "\n",
       "    .dataframe thead th {\n",
       "        text-align: left;\n",
       "    }\n",
       "\n",
       "    .dataframe tbody tr th {\n",
       "        vertical-align: top;\n",
       "    }\n",
       "</style>\n",
       "<table border=\"1\" class=\"dataframe\">\n",
       "  <thead>\n",
       "    <tr style=\"text-align: right;\">\n",
       "      <th></th>\n",
       "      <th>iteration</th>\n",
       "      <th>measure</th>\n",
       "      <th>mean</th>\n",
       "      <th>std</th>\n",
       "    </tr>\n",
       "  </thead>\n",
       "  <tbody>\n",
       "    <tr>\n",
       "      <th>139</th>\n",
       "      <td>9</td>\n",
       "      <td>train_average_precision</td>\n",
       "      <td>1.0</td>\n",
       "      <td>0.0</td>\n",
       "    </tr>\n",
       "    <tr>\n",
       "      <th>9</th>\n",
       "      <td>9</td>\n",
       "      <td>train_cost</td>\n",
       "      <td>0.0</td>\n",
       "      <td>0.0</td>\n",
       "    </tr>\n",
       "    <tr>\n",
       "      <th>109</th>\n",
       "      <td>9</td>\n",
       "      <td>train_f1_macro</td>\n",
       "      <td>1.0</td>\n",
       "      <td>0.0</td>\n",
       "    </tr>\n",
       "    <tr>\n",
       "      <th>149</th>\n",
       "      <td>9</td>\n",
       "      <td>train_kappa</td>\n",
       "      <td>1.0</td>\n",
       "      <td>0.0</td>\n",
       "    </tr>\n",
       "    <tr>\n",
       "      <th>89</th>\n",
       "      <td>9</td>\n",
       "      <td>train_precision_macro</td>\n",
       "      <td>1.0</td>\n",
       "      <td>0.0</td>\n",
       "    </tr>\n",
       "    <tr>\n",
       "      <th>39</th>\n",
       "      <td>9</td>\n",
       "      <td>train_recall_macro</td>\n",
       "      <td>1.0</td>\n",
       "      <td>0.0</td>\n",
       "    </tr>\n",
       "    <tr>\n",
       "      <th>59</th>\n",
       "      <td>9</td>\n",
       "      <td>train_saving</td>\n",
       "      <td>1.0</td>\n",
       "      <td>0.0</td>\n",
       "    </tr>\n",
       "  </tbody>\n",
       "</table>\n",
       "</div>"
      ],
      "text/plain": [
       "     iteration                  measure  mean  std\n",
       "139          9  train_average_precision   1.0  0.0\n",
       "9            9               train_cost   0.0  0.0\n",
       "109          9           train_f1_macro   1.0  0.0\n",
       "149          9              train_kappa   1.0  0.0\n",
       "89           9    train_precision_macro   1.0  0.0\n",
       "39           9       train_recall_macro   1.0  0.0\n",
       "59           9             train_saving   1.0  0.0"
      ]
     },
     "metadata": {},
     "output_type": "display_data"
    },
    {
     "data": {
      "text/html": [
       "<div>\n",
       "<style>\n",
       "    .dataframe thead tr:only-child th {\n",
       "        text-align: right;\n",
       "    }\n",
       "\n",
       "    .dataframe thead th {\n",
       "        text-align: left;\n",
       "    }\n",
       "\n",
       "    .dataframe tbody tr th {\n",
       "        vertical-align: top;\n",
       "    }\n",
       "</style>\n",
       "<table border=\"1\" class=\"dataframe\">\n",
       "  <thead>\n",
       "    <tr style=\"text-align: right;\">\n",
       "      <th></th>\n",
       "      <th>iteration</th>\n",
       "      <th>measure</th>\n",
       "      <th>mean</th>\n",
       "      <th>std</th>\n",
       "    </tr>\n",
       "  </thead>\n",
       "  <tbody>\n",
       "    <tr>\n",
       "      <th>129</th>\n",
       "      <td>9</td>\n",
       "      <td>test_average_precision</td>\n",
       "      <td>0.981636</td>\n",
       "      <td>0.006497</td>\n",
       "    </tr>\n",
       "    <tr>\n",
       "      <th>159</th>\n",
       "      <td>9</td>\n",
       "      <td>test_cost</td>\n",
       "      <td>5.308270</td>\n",
       "      <td>4.965164</td>\n",
       "    </tr>\n",
       "    <tr>\n",
       "      <th>99</th>\n",
       "      <td>9</td>\n",
       "      <td>test_f1_macro</td>\n",
       "      <td>0.941617</td>\n",
       "      <td>0.017079</td>\n",
       "    </tr>\n",
       "    <tr>\n",
       "      <th>79</th>\n",
       "      <td>9</td>\n",
       "      <td>test_kappa</td>\n",
       "      <td>0.883350</td>\n",
       "      <td>0.034113</td>\n",
       "    </tr>\n",
       "    <tr>\n",
       "      <th>29</th>\n",
       "      <td>9</td>\n",
       "      <td>test_precision_macro</td>\n",
       "      <td>0.943314</td>\n",
       "      <td>0.016758</td>\n",
       "    </tr>\n",
       "    <tr>\n",
       "      <th>69</th>\n",
       "      <td>9</td>\n",
       "      <td>test_recall_macro</td>\n",
       "      <td>0.941675</td>\n",
       "      <td>0.017056</td>\n",
       "    </tr>\n",
       "    <tr>\n",
       "      <th>119</th>\n",
       "      <td>9</td>\n",
       "      <td>test_saving</td>\n",
       "      <td>-9.616541</td>\n",
       "      <td>9.930327</td>\n",
       "    </tr>\n",
       "  </tbody>\n",
       "</table>\n",
       "</div>"
      ],
      "text/plain": [
       "     iteration                 measure      mean       std\n",
       "129          9  test_average_precision  0.981636  0.006497\n",
       "159          9               test_cost  5.308270  4.965164\n",
       "99           9           test_f1_macro  0.941617  0.017079\n",
       "79           9              test_kappa  0.883350  0.034113\n",
       "29           9    test_precision_macro  0.943314  0.016758\n",
       "69           9       test_recall_macro  0.941675  0.017056\n",
       "119          9             test_saving -9.616541  9.930327"
      ]
     },
     "metadata": {},
     "output_type": "display_data"
    }
   ],
   "source": [
    "plotPerformanceConvergence(scores,df_results)"
   ]
  },
  {
   "cell_type": "markdown",
   "metadata": {},
   "source": [
    "The savings from the test partition are well below the ones from the train set. This is a indication how the model fails to generalize the savings. It looks to optimize classification and fails to account for the specific value of the transaction."
   ]
  },
  {
   "cell_type": "markdown",
   "metadata": {},
   "source": [
    "## Weighted Random Forest\n",
    "\n",
    "We define the weights to be used as a cost function for the random forest."
   ]
  },
  {
   "cell_type": "code",
   "execution_count": 86,
   "metadata": {
    "collapsed": true
   },
   "outputs": [],
   "source": [
    "import math\n",
    "from costcla import CostSensitiveRandomForestClassifier\n",
    "# Weight= 1 if Y == 0 , Weight =Amount if Y==1\n",
    "sample_weights=(X_under['Amount'].apply(lambda z: math.log(z+0.000001))*Y_under.ravel()).apply(lambda z: math.exp(z))"
   ]
  },
  {
   "cell_type": "markdown",
   "metadata": {},
   "source": [
    "Before we run the weighted algorithm with full range of estimators we conduct an exploratory search for the cutoff probability to optimize the precision and recall accounting cost. The optimal solution was to conduct a grid search but due to time and hardware constraints we will only perform a rough parameter selection."
   ]
  },
  {
   "cell_type": "code",
   "execution_count": 105,
   "metadata": {},
   "outputs": [
    {
     "name": "stdout",
     "output_type": "stream",
     "text": [
      "savings iteration 0\n",
      "\t Starting model at iteraction 3\n",
      "\t\t took 1 seconds to fit\n",
      "\t Starting model at iteraction 6\n",
      "\t\t took 6 seconds to fit\n",
      "\t Starting model at iteraction 9\n",
      "\t\t took 6 seconds to fit\n",
      "savings iteration 1\n",
      "\t Starting model at iteraction 3\n",
      "\t\t took 3 seconds to fit\n",
      "\t Starting model at iteraction 6\n",
      "\t\t took 5 seconds to fit\n",
      "\t Starting model at iteraction 9\n",
      "\t\t took 9 seconds to fit\n",
      "savings iteration 2\n",
      "\t Starting model at iteraction 3\n",
      "\t\t took 2 seconds to fit\n",
      "\t Starting model at iteraction 6\n",
      "\t\t took 4 seconds to fit\n",
      "\t Starting model at iteraction 9\n",
      "\t\t took 6 seconds to fit\n",
      "savings iteration 3\n",
      "\t Starting model at iteraction 3\n",
      "\t\t took 2 seconds to fit\n",
      "\t Starting model at iteraction 6\n",
      "\t\t took 5 seconds to fit\n",
      "\t Starting model at iteraction 9\n",
      "\t\t took 6 seconds to fit\n",
      "savings iteration 4\n",
      "\t Starting model at iteraction 3\n",
      "\t\t took 3 seconds to fit\n",
      "\t Starting model at iteraction 6\n",
      "\t\t took 5 seconds to fit\n",
      "\t Starting model at iteraction 9\n",
      "\t\t took 9 seconds to fit\n",
      "savings iteration 5\n",
      "\t Starting model at iteraction 3\n",
      "\t\t took 2 seconds to fit\n",
      "\t Starting model at iteraction 6\n",
      "\t\t took 5 seconds to fit\n",
      "\t Starting model at iteraction 9\n",
      "\t\t took 9 seconds to fit\n",
      "savings iteration 6\n",
      "\t Starting model at iteraction 3\n",
      "\t\t took 3 seconds to fit\n",
      "\t Starting model at iteraction 6\n",
      "\t\t took 4 seconds to fit\n",
      "\t Starting model at iteraction 9\n",
      "\t\t took 9 seconds to fit\n",
      "savings iteration 7\n",
      "\t Starting model at iteraction 3\n",
      "\t\t took 2 seconds to fit\n",
      "\t Starting model at iteraction 6\n",
      "\t\t took 5 seconds to fit\n",
      "\t Starting model at iteraction 9\n",
      "\t\t took 9 seconds to fit\n",
      "savings iteration 8\n",
      "\t Starting model at iteraction 3\n",
      "\t\t took 2 seconds to fit\n",
      "\t Starting model at iteraction 6\n",
      "\t\t took 5 seconds to fit\n",
      "\t Starting model at iteraction 9\n",
      "\t\t took 7 seconds to fit\n",
      "savings iteration 9\n",
      "\t Starting model at iteraction 3\n",
      "\t\t took 3 seconds to fit\n",
      "\t Starting model at iteraction 6\n",
      "\t\t took 6 seconds to fit\n",
      "\t Starting model at iteraction 9\n",
      "\t\t took 8 seconds to fit\n",
      "savings iteration 10\n",
      "\t Starting model at iteraction 3\n",
      "\t\t took 2 seconds to fit\n",
      "\t Starting model at iteraction 6\n",
      "\t\t took 3 seconds to fit\n",
      "\t Starting model at iteraction 9\n",
      "\t\t took 8 seconds to fit\n",
      "savings iteration 11\n",
      "\t Starting model at iteraction 3\n",
      "\t\t took 3 seconds to fit\n",
      "\t Starting model at iteraction 6\n",
      "\t\t took 6 seconds to fit\n",
      "\t Starting model at iteraction 9\n",
      "\t\t took 7 seconds to fit\n",
      "savings iteration 12\n",
      "\t Starting model at iteraction 3\n",
      "\t\t took 1 seconds to fit\n",
      "\t Starting model at iteraction 6\n",
      "\t\t took 3 seconds to fit\n",
      "\t Starting model at iteraction 9\n",
      "\t\t took 8 seconds to fit\n",
      "savings iteration 13\n",
      "\t Starting model at iteraction 3\n",
      "\t\t took 2 seconds to fit\n",
      "\t Starting model at iteraction 6\n",
      "\t\t took 5 seconds to fit\n",
      "\t Starting model at iteraction 9\n",
      "\t\t took 7 seconds to fit\n",
      "savings iteration 14\n",
      "\t Starting model at iteraction 3\n",
      "\t\t took 3 seconds to fit\n",
      "\t Starting model at iteraction 6\n",
      "\t\t took 5 seconds to fit\n",
      "\t Starting model at iteraction 9\n",
      "\t\t took 9 seconds to fit\n",
      "savings iteration 15\n",
      "\t Starting model at iteraction 3\n",
      "\t\t took 1 seconds to fit\n",
      "\t Starting model at iteraction 6\n",
      "\t\t took 5 seconds to fit\n",
      "\t Starting model at iteraction 9\n",
      "\t\t took 8 seconds to fit\n",
      "savings iteration 16\n",
      "\t Starting model at iteraction 3\n",
      "\t\t took 3 seconds to fit\n",
      "\t Starting model at iteraction 6\n",
      "\t\t took 5 seconds to fit\n",
      "\t Starting model at iteraction 9\n",
      "\t\t took 8 seconds to fit\n",
      "savings iteration 17\n",
      "\t Starting model at iteraction 3\n",
      "\t\t took 2 seconds to fit\n",
      "\t Starting model at iteraction 6\n",
      "\t\t took 4 seconds to fit\n",
      "\t Starting model at iteraction 9\n",
      "\t\t took 8 seconds to fit\n",
      "savings iteration 18\n",
      "\t Starting model at iteraction 3\n",
      "\t\t took 3 seconds to fit\n",
      "\t Starting model at iteraction 6\n",
      "\t\t took 6 seconds to fit\n",
      "\t Starting model at iteraction 9\n",
      "\t\t took 7 seconds to fit\n",
      "savings iteration 19\n",
      "\t Starting model at iteraction 3\n",
      "\t\t took 2 seconds to fit\n",
      "\t Starting model at iteraction 6\n",
      "\t\t took 4 seconds to fit\n",
      "\t Starting model at iteraction 9\n",
      "\t\t took 7 seconds to fit\n"
     ]
    }
   ],
   "source": [
    "results=getSavings(X_under,Y_under,realizations=20,\n",
    "                   estimators=[3,6,9],\n",
    "                   label=\"exploratory_\",thrl=np.array(range(20))*0.05)"
   ]
  },
  {
   "cell_type": "code",
   "execution_count": 117,
   "metadata": {},
   "outputs": [
    {
     "data": {
      "image/png": "[encoded data removed]",
      "text/plain": [
       "<matplotlib.figure.Figure at 0x7fadb8ddc910>"
      ]
     },
     "metadata": {},
     "output_type": "display_data"
    },
    {
     "data": {
      "image/png": "[encoded data removed]",
      "text/plain": [
       "<matplotlib.figure.Figure at 0x7fadb8dd3d90>"
      ]
     },
     "metadata": {},
     "output_type": "display_data"
    }
   ],
   "source": [
    "plotSavings(results,'train')\n",
    "plotSavings(results)"
   ]
  },
  {
   "cell_type": "code",
   "execution_count": 110,
   "metadata": {},
   "outputs": [
    {
     "data": {
      "image/png": "[encoded data removed]",
      "text/plain": [
       "<matplotlib.figure.Figure at 0x7fadb999c410>"
      ]
     },
     "metadata": {},
     "output_type": "display_data"
    },
    {
     "data": {
      "image/png": "[encoded data removed]",
      "text/plain": [
       "<matplotlib.figure.Figure at 0x7fadb999cb90>"
      ]
     },
     "metadata": {},
     "output_type": "display_data"
    }
   ],
   "source": [
    "plotSavingsError(results,'train')\n",
    "plotSavingsError(results,'test')"
   ]
  },
  {
   "cell_type": "code",
   "execution_count": 102,
   "metadata": {},
   "outputs": [
    {
     "data": {
      "text/plain": [
       "3"
      ]
     },
     "execution_count": 102,
     "metadata": {},
     "output_type": "execute_result"
    }
   ],
   "source": [
    "len(results)"
   ]
  },
  {
   "cell_type": "code",
   "execution_count": null,
   "metadata": {},
   "outputs": [],
   "source": []
  },
  {
   "cell_type": "markdown",
   "metadata": {},
   "source": [
    "The error both in the train and in the test dataset are greater above 7 estimatores and near 0.6 cutoff.\n",
    "Let's repeat the procedure to see if the results are reliable.\n",
    "There is no problem in performing this exploratory search because we are separating our Train set between another Train subset and a validation set. The original Test dataset representing 20% of the data remains untouched."
   ]
  },
  {
   "cell_type": "code",
   "execution_count": 111,
   "metadata": {},
   "outputs": [
    {
     "name": "stdout",
     "output_type": "stream",
     "text": [
      "savings iteration 0\n",
      "\t Starting model at iteraction 3\n",
      "\t\t took 1 seconds to fit\n",
      "\t Starting model at iteraction 4\n",
      "\t\t took 3 seconds to fit\n",
      "\t Starting model at iteraction 5\n",
      "\t\t took 4 seconds to fit\n",
      "\t Starting model at iteraction 6\n",
      "\t\t took 6 seconds to fit\n",
      "\t Starting model at iteraction 7\n",
      "\t\t took 6 seconds to fit\n",
      "\t Starting model at iteraction 8\n",
      "\t\t took 7 seconds to fit\n",
      "\t Starting model at iteraction 9\n",
      "\t\t took 8 seconds to fit\n",
      "savings iteration 1\n",
      "\t Starting model at iteraction 3\n",
      "\t\t took 3 seconds to fit\n",
      "\t Starting model at iteraction 4\n",
      "\t\t took 5 seconds to fit\n",
      "\t Starting model at iteraction 5\n",
      "\t\t took 6 seconds to fit\n",
      "\t Starting model at iteraction 6\n",
      "\t\t took 5 seconds to fit\n",
      "\t Starting model at iteraction 7\n",
      "\t\t took 6 seconds to fit\n",
      "\t Starting model at iteraction 8\n",
      "\t\t took 8 seconds to fit\n",
      "\t Starting model at iteraction 9\n",
      "\t\t took 9 seconds to fit\n",
      "savings iteration 2\n",
      "\t Starting model at iteraction 3\n",
      "\t\t took 2 seconds to fit\n",
      "\t Starting model at iteraction 4\n",
      "\t\t took 1 seconds to fit\n",
      "\t Starting model at iteraction 5\n",
      "\t\t took 4 seconds to fit\n",
      "\t Starting model at iteraction 6\n",
      "\t\t took 6 seconds to fit\n",
      "\t Starting model at iteraction 7\n",
      "\t\t took 6 seconds to fit\n",
      "\t Starting model at iteraction 8\n",
      "\t\t took 10 seconds to fit\n",
      "\t Starting model at iteraction 9\n",
      "\t\t took 8 seconds to fit\n",
      "savings iteration 3\n",
      "\t Starting model at iteraction 3\n",
      "\t\t took 3 seconds to fit\n",
      "\t Starting model at iteraction 4\n",
      "\t\t took 3 seconds to fit\n",
      "\t Starting model at iteraction 5\n",
      "\t\t took 5 seconds to fit\n",
      "\t Starting model at iteraction 6\n",
      "\t\t took 6 seconds to fit\n",
      "\t Starting model at iteraction 7\n",
      "\t\t took 6 seconds to fit\n",
      "\t Starting model at iteraction 8\n",
      "\t\t took 7 seconds to fit\n",
      "\t Starting model at iteraction 9\n",
      "\t\t took 7 seconds to fit\n",
      "savings iteration 4\n",
      "\t Starting model at iteraction 3\n",
      "\t\t took 2 seconds to fit\n",
      "\t Starting model at iteraction 4\n",
      "\t\t took 4 seconds to fit\n",
      "\t Starting model at iteraction 5\n",
      "\t\t took 4 seconds to fit\n",
      "\t Starting model at iteraction 6\n",
      "\t\t took 5 seconds to fit\n",
      "\t Starting model at iteraction 7\n",
      "\t\t took 6 seconds to fit\n",
      "\t Starting model at iteraction 8\n",
      "\t\t took 6 seconds to fit\n",
      "\t Starting model at iteraction 9\n",
      "\t\t took 7 seconds to fit\n",
      "savings iteration 5\n",
      "\t Starting model at iteraction 3\n",
      "\t\t took 4 seconds to fit\n",
      "\t Starting model at iteraction 4\n",
      "\t\t took 5 seconds to fit\n",
      "\t Starting model at iteraction 5\n",
      "\t\t took 5 seconds to fit\n",
      "\t Starting model at iteraction 6\n",
      "\t\t took 3 seconds to fit\n",
      "\t Starting model at iteraction 7\n",
      "\t\t took 6 seconds to fit\n",
      "\t Starting model at iteraction 8\n",
      "\t\t took 9 seconds to fit\n",
      "\t Starting model at iteraction 9\n",
      "\t\t took 9 seconds to fit\n",
      "savings iteration 6\n",
      "\t Starting model at iteraction 3\n",
      "\t\t took 1 seconds to fit\n",
      "\t Starting model at iteraction 4\n",
      "\t\t took 3 seconds to fit\n",
      "\t Starting model at iteraction 5\n",
      "\t\t took 6 seconds to fit\n",
      "\t Starting model at iteraction 6\n",
      "\t\t took 5 seconds to fit\n",
      "\t Starting model at iteraction 7\n",
      "\t\t took 6 seconds to fit\n",
      "\t Starting model at iteraction 8\n",
      "\t\t took 8 seconds to fit\n",
      "\t Starting model at iteraction 9\n",
      "\t\t took 8 seconds to fit\n",
      "savings iteration 7\n",
      "\t Starting model at iteraction 3\n",
      "\t\t took 4 seconds to fit\n",
      "\t Starting model at iteraction 4\n",
      "\t\t took 3 seconds to fit\n",
      "\t Starting model at iteraction 5\n",
      "\t\t took 5 seconds to fit\n",
      "\t Starting model at iteraction 6\n",
      "\t\t took 6 seconds to fit\n",
      "\t Starting model at iteraction 7\n",
      "\t\t took 6 seconds to fit\n",
      "\t Starting model at iteraction 8\n",
      "\t\t took 6 seconds to fit\n",
      "\t Starting model at iteraction 9\n",
      "\t\t took 6 seconds to fit\n",
      "savings iteration 8\n",
      "\t Starting model at iteraction 3\n",
      "\t\t took 2 seconds to fit\n",
      "\t Starting model at iteraction 4\n",
      "\t\t took 4 seconds to fit\n",
      "\t Starting model at iteraction 5\n",
      "\t\t took 3 seconds to fit\n",
      "\t Starting model at iteraction 6\n",
      "\t\t took 4 seconds to fit\n",
      "\t Starting model at iteraction 7\n",
      "\t\t took 5 seconds to fit\n",
      "\t Starting model at iteraction 8\n",
      "\t\t took 5 seconds to fit\n",
      "\t Starting model at iteraction 9\n",
      "\t\t took 5 seconds to fit\n",
      "savings iteration 9\n",
      "\t Starting model at iteraction 3\n",
      "\t\t took 4 seconds to fit\n",
      "\t Starting model at iteraction 4\n",
      "\t\t took 3 seconds to fit\n",
      "\t Starting model at iteraction 5\n",
      "\t\t took 4 seconds to fit\n",
      "\t Starting model at iteraction 6\n",
      "\t\t took 7 seconds to fit\n",
      "\t Starting model at iteraction 7\n",
      "\t\t took 6 seconds to fit\n",
      "\t Starting model at iteraction 8\n",
      "\t\t took 8 seconds to fit\n",
      "\t Starting model at iteraction 9\n",
      "\t\t took 6 seconds to fit\n",
      "savings iteration 10\n",
      "\t Starting model at iteraction 3\n",
      "\t\t took 3 seconds to fit\n",
      "\t Starting model at iteraction 4\n",
      "\t\t took 3 seconds to fit\n",
      "\t Starting model at iteraction 5\n",
      "\t\t took 4 seconds to fit\n",
      "\t Starting model at iteraction 6\n",
      "\t\t took 4 seconds to fit\n",
      "\t Starting model at iteraction 7\n",
      "\t\t took 7 seconds to fit\n",
      "\t Starting model at iteraction 8\n",
      "\t\t took 7 seconds to fit\n",
      "\t Starting model at iteraction 9\n",
      "\t\t took 10 seconds to fit\n",
      "savings iteration 11\n",
      "\t Starting model at iteraction 3\n",
      "\t\t took 1 seconds to fit\n",
      "\t Starting model at iteraction 4\n",
      "\t\t took 3 seconds to fit\n",
      "\t Starting model at iteraction 5\n",
      "\t\t took 4 seconds to fit\n",
      "\t Starting model at iteraction 6\n",
      "\t\t took 4 seconds to fit\n",
      "\t Starting model at iteraction 7\n",
      "\t\t took 6 seconds to fit\n",
      "\t Starting model at iteraction 8\n",
      "\t\t took 9 seconds to fit\n",
      "\t Starting model at iteraction 9\n",
      "\t\t took 7 seconds to fit\n",
      "savings iteration 12\n",
      "\t Starting model at iteraction 3\n",
      "\t\t took 3 seconds to fit\n",
      "\t Starting model at iteraction 4\n",
      "\t\t took 3 seconds to fit\n",
      "\t Starting model at iteraction 5\n",
      "\t\t took 2 seconds to fit\n",
      "\t Starting model at iteraction 6\n",
      "\t\t took 4 seconds to fit\n",
      "\t Starting model at iteraction 7\n",
      "\t\t took 5 seconds to fit\n",
      "\t Starting model at iteraction 8\n",
      "\t\t took 6 seconds to fit\n",
      "\t Starting model at iteraction 9\n",
      "\t\t took 9 seconds to fit\n",
      "savings iteration 13\n",
      "\t Starting model at iteraction 3\n",
      "\t\t took 4 seconds to fit\n",
      "\t Starting model at iteraction 4\n",
      "\t\t took 2 seconds to fit\n",
      "\t Starting model at iteraction 5\n",
      "\t\t took 5 seconds to fit\n",
      "\t Starting model at iteraction 6\n",
      "\t\t took 8 seconds to fit\n",
      "\t Starting model at iteraction 7\n",
      "\t\t took 5 seconds to fit\n",
      "\t Starting model at iteraction 8\n",
      "\t\t took 6 seconds to fit\n",
      "\t Starting model at iteraction 9\n",
      "\t\t took 6 seconds to fit\n",
      "savings iteration 14\n",
      "\t Starting model at iteraction 3\n",
      "\t\t took 2 seconds to fit\n",
      "\t Starting model at iteraction 4\n",
      "\t\t took 4 seconds to fit\n",
      "\t Starting model at iteraction 5\n",
      "\t\t took 3 seconds to fit\n",
      "\t Starting model at iteraction 6\n",
      "\t\t took 5 seconds to fit\n",
      "\t Starting model at iteraction 7\n",
      "\t\t took 4 seconds to fit\n",
      "\t Starting model at iteraction 8\n",
      "\t\t took 5 seconds to fit\n",
      "\t Starting model at iteraction 9\n",
      "\t\t took 7 seconds to fit\n",
      "savings iteration 15\n",
      "\t Starting model at iteraction 3\n",
      "\t\t took 2 seconds to fit\n",
      "\t Starting model at iteraction 4\n",
      "\t\t took 3 seconds to fit\n",
      "\t Starting model at iteraction 5\n",
      "\t\t took 6 seconds to fit\n",
      "\t Starting model at iteraction 6\n",
      "\t\t took 5 seconds to fit\n",
      "\t Starting model at iteraction 7\n",
      "\t\t took 5 seconds to fit\n",
      "\t Starting model at iteraction 8\n",
      "\t\t took 6 seconds to fit\n",
      "\t Starting model at iteraction 9\n",
      "\t\t took 7 seconds to fit\n",
      "savings iteration 16\n",
      "\t Starting model at iteraction 3\n",
      "\t\t took 2 seconds to fit\n",
      "\t Starting model at iteraction 4\n",
      "\t\t took 4 seconds to fit\n",
      "\t Starting model at iteraction 5\n",
      "\t\t took 5 seconds to fit\n",
      "\t Starting model at iteraction 6\n",
      "\t\t took 5 seconds to fit\n",
      "\t Starting model at iteraction 7\n",
      "\t\t took 6 seconds to fit\n",
      "\t Starting model at iteraction 8\n",
      "\t\t took 5 seconds to fit\n",
      "\t Starting model at iteraction 9\n",
      "\t\t took 6 seconds to fit\n",
      "savings iteration 17\n",
      "\t Starting model at iteraction 3\n",
      "\t\t took 4 seconds to fit\n",
      "\t Starting model at iteraction 4\n",
      "\t\t took 3 seconds to fit\n",
      "\t Starting model at iteraction 5\n",
      "\t\t took 5 seconds to fit\n",
      "\t Starting model at iteraction 6\n",
      "\t\t took 5 seconds to fit\n",
      "\t Starting model at iteraction 7\n",
      "\t\t took 7 seconds to fit\n",
      "\t Starting model at iteraction 8\n",
      "\t\t took 6 seconds to fit\n",
      "\t Starting model at iteraction 9\n",
      "\t\t took 3 seconds to fit\n",
      "savings iteration 18\n",
      "\t Starting model at iteraction 3\n",
      "\t\t took 3 seconds to fit\n",
      "\t Starting model at iteraction 4\n",
      "\t\t took 3 seconds to fit\n",
      "\t Starting model at iteraction 5\n",
      "\t\t took 4 seconds to fit\n",
      "\t Starting model at iteraction 6\n",
      "\t\t took 5 seconds to fit\n",
      "\t Starting model at iteraction 7\n",
      "\t\t took 5 seconds to fit\n",
      "\t Starting model at iteraction 8\n",
      "\t\t took 5 seconds to fit\n",
      "\t Starting model at iteraction 9\n",
      "\t\t took 9 seconds to fit\n",
      "savings iteration 19\n",
      "\t Starting model at iteraction 3\n",
      "\t\t took 3 seconds to fit\n",
      "\t Starting model at iteraction 4\n"
     ]
    },
    {
     "name": "stdout",
     "output_type": "stream",
     "text": [
      "\t\t took 2 seconds to fit\n",
      "\t Starting model at iteraction 5\n",
      "\t\t took 4 seconds to fit\n",
      "\t Starting model at iteraction 6\n",
      "\t\t took 4 seconds to fit\n",
      "\t Starting model at iteraction 7\n",
      "\t\t took 7 seconds to fit\n",
      "\t Starting model at iteraction 8\n",
      "\t\t took 5 seconds to fit\n",
      "\t Starting model at iteraction 9\n",
      "\t\t took 5 seconds to fit\n"
     ]
    }
   ],
   "source": [
    "resultsB=getSavings(X_under,Y_under,realizations=20,\n",
    "                   estimators=[3,4,5,6,7,8,9],\n",
    "                   label=\"exploratory_\",thrl=np.array(range(33))*0.01)"
   ]
  },
  {
   "cell_type": "code",
   "execution_count": 118,
   "metadata": {},
   "outputs": [
    {
     "data": {
      "image/png": "[encoded data removed]",
      "text/plain": [
       "<matplotlib.figure.Figure at 0x7fadb902bc50>"
      ]
     },
     "metadata": {},
     "output_type": "display_data"
    },
    {
     "data": {
      "image/png": "[encoded data removed]",
      "text/plain": [
       "<matplotlib.figure.Figure at 0x7fadb94edd90>"
      ]
     },
     "metadata": {},
     "output_type": "display_data"
    },
    {
     "data": {
      "image/png": "[encoded data removed]",
      "text/plain": [
       "<matplotlib.figure.Figure at 0x7fadb8fb8210>"
      ]
     },
     "metadata": {},
     "output_type": "display_data"
    },
    {
     "data": {
      "image/png": "[encoded data removed]",
      "text/plain": [
       "<matplotlib.figure.Figure at 0x7fadb94ed890>"
      ]
     },
     "metadata": {},
     "output_type": "display_data"
    }
   ],
   "source": [
    "plotSavings(resultsB,'train')\n",
    "plotSavings(resultsB,'test')\n",
    "plotSavingsError(resultsB,'train')\n",
    "plotSavingsError(resultsB,'test')"
   ]
  },
  {
   "cell_type": "code",
   "execution_count": 114,
   "metadata": {},
   "outputs": [
    {
     "data": {
      "text/html": [
       "<div>\n",
       "<style>\n",
       "    .dataframe thead tr:only-child th {\n",
       "        text-align: right;\n",
       "    }\n",
       "\n",
       "    .dataframe thead th {\n",
       "        text-align: left;\n",
       "    }\n",
       "\n",
       "    .dataframe tbody tr th {\n",
       "        vertical-align: top;\n",
       "    }\n",
       "</style>\n",
       "<table border=\"1\" class=\"dataframe\">\n",
       "  <thead>\n",
       "    <tr style=\"text-align: right;\">\n",
       "      <th></th>\n",
       "      <th>0.0</th>\n",
       "      <th>0.01</th>\n",
       "      <th>0.02</th>\n",
       "      <th>0.03</th>\n",
       "      <th>0.04</th>\n",
       "      <th>0.05</th>\n",
       "      <th>0.06</th>\n",
       "      <th>0.07</th>\n",
       "      <th>0.08</th>\n",
       "      <th>0.09</th>\n",
       "      <th>...</th>\n",
       "      <th>0.23</th>\n",
       "      <th>0.24</th>\n",
       "      <th>0.25</th>\n",
       "      <th>0.26</th>\n",
       "      <th>0.27</th>\n",
       "      <th>0.28</th>\n",
       "      <th>0.29</th>\n",
       "      <th>0.3</th>\n",
       "      <th>0.31</th>\n",
       "      <th>0.32</th>\n",
       "    </tr>\n",
       "  </thead>\n",
       "  <tbody>\n",
       "    <tr>\n",
       "      <th>4</th>\n",
       "      <td>0.0</td>\n",
       "      <td>0.0</td>\n",
       "      <td>0.0</td>\n",
       "      <td>0.002222</td>\n",
       "      <td>0.002381</td>\n",
       "      <td>0.003492</td>\n",
       "      <td>0.005397</td>\n",
       "      <td>0.005873</td>\n",
       "      <td>0.006349</td>\n",
       "      <td>0.006667</td>\n",
       "      <td>...</td>\n",
       "      <td>0.021429</td>\n",
       "      <td>0.023689</td>\n",
       "      <td>0.024006</td>\n",
       "      <td>0.024165</td>\n",
       "      <td>0.024165</td>\n",
       "      <td>0.024165</td>\n",
       "      <td>0.024165</td>\n",
       "      <td>0.024165</td>\n",
       "      <td>0.024165</td>\n",
       "      <td>0.024165</td>\n",
       "    </tr>\n",
       "    <tr>\n",
       "      <th>5</th>\n",
       "      <td>0.0</td>\n",
       "      <td>0.0</td>\n",
       "      <td>0.0</td>\n",
       "      <td>0.000000</td>\n",
       "      <td>0.000000</td>\n",
       "      <td>0.000000</td>\n",
       "      <td>0.000000</td>\n",
       "      <td>0.000000</td>\n",
       "      <td>0.000000</td>\n",
       "      <td>0.000000</td>\n",
       "      <td>...</td>\n",
       "      <td>0.014286</td>\n",
       "      <td>0.014603</td>\n",
       "      <td>0.014603</td>\n",
       "      <td>0.015079</td>\n",
       "      <td>0.015238</td>\n",
       "      <td>0.015714</td>\n",
       "      <td>0.015714</td>\n",
       "      <td>0.015873</td>\n",
       "      <td>0.015873</td>\n",
       "      <td>0.015873</td>\n",
       "    </tr>\n",
       "    <tr>\n",
       "      <th>6</th>\n",
       "      <td>0.0</td>\n",
       "      <td>0.0</td>\n",
       "      <td>0.0</td>\n",
       "      <td>0.000000</td>\n",
       "      <td>0.000000</td>\n",
       "      <td>0.000000</td>\n",
       "      <td>0.000000</td>\n",
       "      <td>0.000000</td>\n",
       "      <td>0.000000</td>\n",
       "      <td>0.000000</td>\n",
       "      <td>...</td>\n",
       "      <td>0.007778</td>\n",
       "      <td>0.007778</td>\n",
       "      <td>0.007778</td>\n",
       "      <td>0.007778</td>\n",
       "      <td>0.016032</td>\n",
       "      <td>0.017460</td>\n",
       "      <td>0.017619</td>\n",
       "      <td>0.019841</td>\n",
       "      <td>0.021111</td>\n",
       "      <td>0.021905</td>\n",
       "    </tr>\n",
       "    <tr>\n",
       "      <th>7</th>\n",
       "      <td>0.0</td>\n",
       "      <td>0.0</td>\n",
       "      <td>0.0</td>\n",
       "      <td>0.000000</td>\n",
       "      <td>0.000000</td>\n",
       "      <td>0.000000</td>\n",
       "      <td>0.000000</td>\n",
       "      <td>0.000000</td>\n",
       "      <td>0.000000</td>\n",
       "      <td>0.000000</td>\n",
       "      <td>...</td>\n",
       "      <td>0.000794</td>\n",
       "      <td>0.000952</td>\n",
       "      <td>0.001429</td>\n",
       "      <td>0.003492</td>\n",
       "      <td>0.004444</td>\n",
       "      <td>0.004603</td>\n",
       "      <td>0.004762</td>\n",
       "      <td>0.004762</td>\n",
       "      <td>0.004762</td>\n",
       "      <td>0.006349</td>\n",
       "    </tr>\n",
       "    <tr>\n",
       "      <th>8</th>\n",
       "      <td>0.0</td>\n",
       "      <td>0.0</td>\n",
       "      <td>0.0</td>\n",
       "      <td>0.000000</td>\n",
       "      <td>0.000635</td>\n",
       "      <td>0.001270</td>\n",
       "      <td>0.001270</td>\n",
       "      <td>0.002063</td>\n",
       "      <td>0.002063</td>\n",
       "      <td>0.002063</td>\n",
       "      <td>...</td>\n",
       "      <td>0.007151</td>\n",
       "      <td>0.009056</td>\n",
       "      <td>0.009690</td>\n",
       "      <td>0.010484</td>\n",
       "      <td>0.011913</td>\n",
       "      <td>0.012389</td>\n",
       "      <td>0.012706</td>\n",
       "      <td>0.018738</td>\n",
       "      <td>0.015578</td>\n",
       "      <td>0.016689</td>\n",
       "    </tr>\n",
       "    <tr>\n",
       "      <th>9</th>\n",
       "      <td>0.0</td>\n",
       "      <td>0.0</td>\n",
       "      <td>0.0</td>\n",
       "      <td>0.000000</td>\n",
       "      <td>0.000000</td>\n",
       "      <td>0.000000</td>\n",
       "      <td>0.000000</td>\n",
       "      <td>0.000000</td>\n",
       "      <td>0.000000</td>\n",
       "      <td>0.000000</td>\n",
       "      <td>...</td>\n",
       "      <td>0.014444</td>\n",
       "      <td>0.014603</td>\n",
       "      <td>0.014921</td>\n",
       "      <td>0.015079</td>\n",
       "      <td>0.015556</td>\n",
       "      <td>0.016825</td>\n",
       "      <td>0.017143</td>\n",
       "      <td>0.017460</td>\n",
       "      <td>0.017778</td>\n",
       "      <td>0.018254</td>\n",
       "    </tr>\n",
       "    <tr>\n",
       "      <th>10</th>\n",
       "      <td>0.0</td>\n",
       "      <td>0.0</td>\n",
       "      <td>0.0</td>\n",
       "      <td>0.000000</td>\n",
       "      <td>0.000000</td>\n",
       "      <td>0.000000</td>\n",
       "      <td>0.000000</td>\n",
       "      <td>0.000000</td>\n",
       "      <td>0.000000</td>\n",
       "      <td>0.000000</td>\n",
       "      <td>...</td>\n",
       "      <td>0.016984</td>\n",
       "      <td>0.016984</td>\n",
       "      <td>0.017143</td>\n",
       "      <td>0.017778</td>\n",
       "      <td>0.017778</td>\n",
       "      <td>0.017778</td>\n",
       "      <td>0.017778</td>\n",
       "      <td>0.015246</td>\n",
       "      <td>0.015246</td>\n",
       "      <td>0.015246</td>\n",
       "    </tr>\n",
       "  </tbody>\n",
       "</table>\n",
       "<p>7 rows × 33 columns</p>\n",
       "</div>"
      ],
      "text/plain": [
       "    0.0  0.01  0.02      0.03      0.04      0.05      0.06      0.07  \\\n",
       "4   0.0   0.0   0.0  0.002222  0.002381  0.003492  0.005397  0.005873   \n",
       "5   0.0   0.0   0.0  0.000000  0.000000  0.000000  0.000000  0.000000   \n",
       "6   0.0   0.0   0.0  0.000000  0.000000  0.000000  0.000000  0.000000   \n",
       "7   0.0   0.0   0.0  0.000000  0.000000  0.000000  0.000000  0.000000   \n",
       "8   0.0   0.0   0.0  0.000000  0.000635  0.001270  0.001270  0.002063   \n",
       "9   0.0   0.0   0.0  0.000000  0.000000  0.000000  0.000000  0.000000   \n",
       "10  0.0   0.0   0.0  0.000000  0.000000  0.000000  0.000000  0.000000   \n",
       "\n",
       "        0.08      0.09    ...         0.23      0.24      0.25      0.26  \\\n",
       "4   0.006349  0.006667    ...     0.021429  0.023689  0.024006  0.024165   \n",
       "5   0.000000  0.000000    ...     0.014286  0.014603  0.014603  0.015079   \n",
       "6   0.000000  0.000000    ...     0.007778  0.007778  0.007778  0.007778   \n",
       "7   0.000000  0.000000    ...     0.000794  0.000952  0.001429  0.003492   \n",
       "8   0.002063  0.002063    ...     0.007151  0.009056  0.009690  0.010484   \n",
       "9   0.000000  0.000000    ...     0.014444  0.014603  0.014921  0.015079   \n",
       "10  0.000000  0.000000    ...     0.016984  0.016984  0.017143  0.017778   \n",
       "\n",
       "        0.27      0.28      0.29       0.3      0.31      0.32  \n",
       "4   0.024165  0.024165  0.024165  0.024165  0.024165  0.024165  \n",
       "5   0.015238  0.015714  0.015714  0.015873  0.015873  0.015873  \n",
       "6   0.016032  0.017460  0.017619  0.019841  0.021111  0.021905  \n",
       "7   0.004444  0.004603  0.004762  0.004762  0.004762  0.006349  \n",
       "8   0.011913  0.012389  0.012706  0.018738  0.015578  0.016689  \n",
       "9   0.015556  0.016825  0.017143  0.017460  0.017778  0.018254  \n",
       "10  0.017778  0.017778  0.017778  0.015246  0.015246  0.015246  \n",
       "\n",
       "[7 rows x 33 columns]"
      ]
     },
     "execution_count": 114,
     "metadata": {},
     "output_type": "execute_result"
    }
   ],
   "source": [
    "first=True\n",
    "it=0\n",
    "for d in [pd.DataFrame(a['train']) for a,b,c in [r for r in resultsB] ]:\n",
    "    #display(d)\n",
    "    if(first):\n",
    "        aux=d\n",
    "    else:\n",
    "        aux=aux+d\n",
    "    it=it+1\n",
    "\n",
    "aux=aux/it\n",
    "aux"
   ]
  },
  {
   "cell_type": "markdown",
   "metadata": {},
   "source": [
    "It seems that the cutoff 0.12 and 7 number of estimators provides the optimal savings. "
   ]
  },
  {
   "cell_type": "code",
   "execution_count": 115,
   "metadata": {},
   "outputs": [
    {
     "data": {
      "text/html": [
       "<div>\n",
       "<style>\n",
       "    .dataframe thead tr:only-child th {\n",
       "        text-align: right;\n",
       "    }\n",
       "\n",
       "    .dataframe thead th {\n",
       "        text-align: left;\n",
       "    }\n",
       "\n",
       "    .dataframe tbody tr th {\n",
       "        vertical-align: top;\n",
       "    }\n",
       "</style>\n",
       "<table border=\"1\" class=\"dataframe\">\n",
       "  <thead>\n",
       "    <tr style=\"text-align: right;\">\n",
       "      <th></th>\n",
       "      <th>0.0</th>\n",
       "      <th>0.01</th>\n",
       "      <th>0.02</th>\n",
       "      <th>0.03</th>\n",
       "      <th>0.04</th>\n",
       "      <th>0.05</th>\n",
       "      <th>0.06</th>\n",
       "      <th>0.07</th>\n",
       "      <th>0.08</th>\n",
       "      <th>0.09</th>\n",
       "      <th>...</th>\n",
       "      <th>0.23</th>\n",
       "      <th>0.24</th>\n",
       "      <th>0.25</th>\n",
       "      <th>0.26</th>\n",
       "      <th>0.27</th>\n",
       "      <th>0.28</th>\n",
       "      <th>0.29</th>\n",
       "      <th>0.3</th>\n",
       "      <th>0.31</th>\n",
       "      <th>0.32</th>\n",
       "    </tr>\n",
       "  </thead>\n",
       "  <tbody>\n",
       "    <tr>\n",
       "      <th>4</th>\n",
       "      <td>0.0</td>\n",
       "      <td>0.0</td>\n",
       "      <td>0.0</td>\n",
       "      <td>0.003165</td>\n",
       "      <td>0.003797</td>\n",
       "      <td>0.003797</td>\n",
       "      <td>0.005063</td>\n",
       "      <td>0.005696</td>\n",
       "      <td>0.005696</td>\n",
       "      <td>0.005696</td>\n",
       "      <td>...</td>\n",
       "      <td>-0.325354</td>\n",
       "      <td>-0.325354</td>\n",
       "      <td>-0.324848</td>\n",
       "      <td>-0.324848</td>\n",
       "      <td>-0.324848</td>\n",
       "      <td>-0.324848</td>\n",
       "      <td>-0.324848</td>\n",
       "      <td>-0.324848</td>\n",
       "      <td>-0.324848</td>\n",
       "      <td>-0.324848</td>\n",
       "    </tr>\n",
       "    <tr>\n",
       "      <th>5</th>\n",
       "      <td>0.0</td>\n",
       "      <td>0.0</td>\n",
       "      <td>0.0</td>\n",
       "      <td>0.000633</td>\n",
       "      <td>0.000633</td>\n",
       "      <td>0.001266</td>\n",
       "      <td>0.001266</td>\n",
       "      <td>0.001266</td>\n",
       "      <td>0.001266</td>\n",
       "      <td>0.001266</td>\n",
       "      <td>...</td>\n",
       "      <td>-0.329785</td>\n",
       "      <td>-0.329785</td>\n",
       "      <td>-0.329785</td>\n",
       "      <td>-0.329785</td>\n",
       "      <td>-0.329785</td>\n",
       "      <td>-0.329785</td>\n",
       "      <td>-0.329785</td>\n",
       "      <td>-0.329785</td>\n",
       "      <td>-0.329785</td>\n",
       "      <td>-0.329785</td>\n",
       "    </tr>\n",
       "    <tr>\n",
       "      <th>6</th>\n",
       "      <td>0.0</td>\n",
       "      <td>0.0</td>\n",
       "      <td>0.0</td>\n",
       "      <td>0.000000</td>\n",
       "      <td>0.000000</td>\n",
       "      <td>0.000000</td>\n",
       "      <td>0.000000</td>\n",
       "      <td>0.000000</td>\n",
       "      <td>0.000000</td>\n",
       "      <td>0.000000</td>\n",
       "      <td>...</td>\n",
       "      <td>-0.339911</td>\n",
       "      <td>-0.339911</td>\n",
       "      <td>-0.339911</td>\n",
       "      <td>-0.339911</td>\n",
       "      <td>-0.330418</td>\n",
       "      <td>-0.329785</td>\n",
       "      <td>-0.329785</td>\n",
       "      <td>-0.326620</td>\n",
       "      <td>-0.326620</td>\n",
       "      <td>-0.326620</td>\n",
       "    </tr>\n",
       "    <tr>\n",
       "      <th>7</th>\n",
       "      <td>0.0</td>\n",
       "      <td>0.0</td>\n",
       "      <td>0.0</td>\n",
       "      <td>0.000000</td>\n",
       "      <td>0.000000</td>\n",
       "      <td>0.000000</td>\n",
       "      <td>0.000000</td>\n",
       "      <td>0.000000</td>\n",
       "      <td>0.000000</td>\n",
       "      <td>0.000000</td>\n",
       "      <td>...</td>\n",
       "      <td>0.001266</td>\n",
       "      <td>0.001266</td>\n",
       "      <td>0.001266</td>\n",
       "      <td>0.002532</td>\n",
       "      <td>0.005063</td>\n",
       "      <td>0.005063</td>\n",
       "      <td>0.005063</td>\n",
       "      <td>0.005063</td>\n",
       "      <td>0.005063</td>\n",
       "      <td>0.005696</td>\n",
       "    </tr>\n",
       "    <tr>\n",
       "      <th>8</th>\n",
       "      <td>0.0</td>\n",
       "      <td>0.0</td>\n",
       "      <td>0.0</td>\n",
       "      <td>0.000000</td>\n",
       "      <td>0.000633</td>\n",
       "      <td>0.001266</td>\n",
       "      <td>0.001266</td>\n",
       "      <td>0.001266</td>\n",
       "      <td>0.001266</td>\n",
       "      <td>0.001266</td>\n",
       "      <td>...</td>\n",
       "      <td>0.009494</td>\n",
       "      <td>0.013924</td>\n",
       "      <td>0.015190</td>\n",
       "      <td>0.015823</td>\n",
       "      <td>0.015823</td>\n",
       "      <td>0.015823</td>\n",
       "      <td>0.016456</td>\n",
       "      <td>-0.489829</td>\n",
       "      <td>-0.487297</td>\n",
       "      <td>-0.486665</td>\n",
       "    </tr>\n",
       "    <tr>\n",
       "      <th>9</th>\n",
       "      <td>0.0</td>\n",
       "      <td>0.0</td>\n",
       "      <td>0.0</td>\n",
       "      <td>0.000000</td>\n",
       "      <td>0.000000</td>\n",
       "      <td>0.000000</td>\n",
       "      <td>0.000000</td>\n",
       "      <td>0.000000</td>\n",
       "      <td>0.000000</td>\n",
       "      <td>0.000000</td>\n",
       "      <td>...</td>\n",
       "      <td>-0.330418</td>\n",
       "      <td>-0.330418</td>\n",
       "      <td>-0.329152</td>\n",
       "      <td>-0.329152</td>\n",
       "      <td>-0.327253</td>\n",
       "      <td>-0.325987</td>\n",
       "      <td>-0.325987</td>\n",
       "      <td>-0.325987</td>\n",
       "      <td>-0.325987</td>\n",
       "      <td>-0.325987</td>\n",
       "    </tr>\n",
       "    <tr>\n",
       "      <th>10</th>\n",
       "      <td>0.0</td>\n",
       "      <td>0.0</td>\n",
       "      <td>0.0</td>\n",
       "      <td>0.000000</td>\n",
       "      <td>0.000000</td>\n",
       "      <td>0.000000</td>\n",
       "      <td>0.000000</td>\n",
       "      <td>0.000000</td>\n",
       "      <td>0.000000</td>\n",
       "      <td>0.000000</td>\n",
       "      <td>...</td>\n",
       "      <td>-0.492994</td>\n",
       "      <td>-0.492994</td>\n",
       "      <td>-0.492361</td>\n",
       "      <td>-0.492361</td>\n",
       "      <td>-0.492361</td>\n",
       "      <td>-0.491728</td>\n",
       "      <td>-0.491728</td>\n",
       "      <td>-0.491095</td>\n",
       "      <td>-0.491095</td>\n",
       "      <td>-0.491095</td>\n",
       "    </tr>\n",
       "  </tbody>\n",
       "</table>\n",
       "<p>7 rows × 33 columns</p>\n",
       "</div>"
      ],
      "text/plain": [
       "    0.0  0.01  0.02      0.03      0.04      0.05      0.06      0.07  \\\n",
       "4   0.0   0.0   0.0  0.003165  0.003797  0.003797  0.005063  0.005696   \n",
       "5   0.0   0.0   0.0  0.000633  0.000633  0.001266  0.001266  0.001266   \n",
       "6   0.0   0.0   0.0  0.000000  0.000000  0.000000  0.000000  0.000000   \n",
       "7   0.0   0.0   0.0  0.000000  0.000000  0.000000  0.000000  0.000000   \n",
       "8   0.0   0.0   0.0  0.000000  0.000633  0.001266  0.001266  0.001266   \n",
       "9   0.0   0.0   0.0  0.000000  0.000000  0.000000  0.000000  0.000000   \n",
       "10  0.0   0.0   0.0  0.000000  0.000000  0.000000  0.000000  0.000000   \n",
       "\n",
       "        0.08      0.09    ...         0.23      0.24      0.25      0.26  \\\n",
       "4   0.005696  0.005696    ...    -0.325354 -0.325354 -0.324848 -0.324848   \n",
       "5   0.001266  0.001266    ...    -0.329785 -0.329785 -0.329785 -0.329785   \n",
       "6   0.000000  0.000000    ...    -0.339911 -0.339911 -0.339911 -0.339911   \n",
       "7   0.000000  0.000000    ...     0.001266  0.001266  0.001266  0.002532   \n",
       "8   0.001266  0.001266    ...     0.009494  0.013924  0.015190  0.015823   \n",
       "9   0.000000  0.000000    ...    -0.330418 -0.330418 -0.329152 -0.329152   \n",
       "10  0.000000  0.000000    ...    -0.492994 -0.492994 -0.492361 -0.492361   \n",
       "\n",
       "        0.27      0.28      0.29       0.3      0.31      0.32  \n",
       "4  -0.324848 -0.324848 -0.324848 -0.324848 -0.324848 -0.324848  \n",
       "5  -0.329785 -0.329785 -0.329785 -0.329785 -0.329785 -0.329785  \n",
       "6  -0.330418 -0.329785 -0.329785 -0.326620 -0.326620 -0.326620  \n",
       "7   0.005063  0.005063  0.005063  0.005063  0.005063  0.005696  \n",
       "8   0.015823  0.015823  0.016456 -0.489829 -0.487297 -0.486665  \n",
       "9  -0.327253 -0.325987 -0.325987 -0.325987 -0.325987 -0.325987  \n",
       "10 -0.492361 -0.491728 -0.491728 -0.491095 -0.491095 -0.491095  \n",
       "\n",
       "[7 rows x 33 columns]"
      ]
     },
     "execution_count": 115,
     "metadata": {},
     "output_type": "execute_result"
    }
   ],
   "source": [
    "first=True\n",
    "it=0\n",
    "for d in [pd.DataFrame(a['test']) for a,b,c in [r for r in resultsB] ]:\n",
    "    #display(d)\n",
    "    if(first):\n",
    "        aux=d\n",
    "    else:\n",
    "        aux=aux+d\n",
    "    it=it+1\n",
    "\n",
    "aux=aux/it\n",
    "aux"
   ]
  },
  {
   "cell_type": "code",
   "execution_count": null,
   "metadata": {},
   "outputs": [],
   "source": []
  },
  {
   "cell_type": "markdown",
   "metadata": {},
   "source": [
    "We now run the full weighted random forest with cutoff 0.12 and number of estimators 7, just to make sure that the results converged. It is not good, but it is close enough."
   ]
  },
  {
   "cell_type": "code",
   "execution_count": 94,
   "metadata": {},
   "outputs": [
    {
     "name": "stdout",
     "output_type": "stream",
     "text": [
      "\t RandomForestIteration 0\n",
      "\t \t took 113 seconds\n",
      "\t RandomForestIteration 1\n",
      "\t \t took 224 seconds\n",
      "\t RandomForestIteration 2\n",
      "\t \t took 343 seconds\n"
     ]
    }
   ],
   "source": [
    "(wscores,wrfc)=WeightedRandomForestClassifier(X_under,Y_under,step=3,max_iter=3,sample_weight=sample_weights,cutoff=0.12)\n"
   ]
  },
  {
   "cell_type": "code",
   "execution_count": 95,
   "metadata": {
    "collapsed": true
   },
   "outputs": [],
   "source": [
    "wdf_results=getResults(wscores,3)"
   ]
  },
  {
   "cell_type": "markdown",
   "metadata": {},
   "source": [
    "# Results"
   ]
  },
  {
   "cell_type": "code",
   "execution_count": 96,
   "metadata": {},
   "outputs": [
    {
     "data": {
      "image/png": "[encoded data removed]",
      "text/plain": [
       "<matplotlib.figure.Figure at 0x7fadb8ea1110>"
      ]
     },
     "metadata": {},
     "output_type": "display_data"
    },
    {
     "data": {
      "image/png": "[encoded data removed]",
      "text/plain": [
       "<matplotlib.figure.Figure at 0x7fadb9080d90>"
      ]
     },
     "metadata": {},
     "output_type": "display_data"
    },
    {
     "data": {
      "image/png": "[encoded data removed]",
      "text/plain": [
       "<matplotlib.figure.Figure at 0x7fadb9e10d90>"
      ]
     },
     "metadata": {},
     "output_type": "display_data"
    },
    {
     "data": {
      "image/png": "[encoded data removed]",
      "text/plain": [
       "<matplotlib.figure.Figure at 0x7fadb9d93410>"
      ]
     },
     "metadata": {},
     "output_type": "display_data"
    },
    {
     "data": {
      "text/plain": [
       "<matplotlib.figure.Figure at 0x7fadb911cf90>"
      ]
     },
     "metadata": {},
     "output_type": "display_data"
    },
    {
     "data": {
      "image/png": "[encoded data removed]",
      "text/plain": [
       "<matplotlib.figure.Figure at 0x7fadb8ea13d0>"
      ]
     },
     "metadata": {},
     "output_type": "display_data"
    },
    {
     "data": {
      "image/png": "[encoded data removed]",
      "text/plain": [
       "<matplotlib.figure.Figure at 0x7fadb971ca10>"
      ]
     },
     "metadata": {},
     "output_type": "display_data"
    },
    {
     "data": {
      "image/png": "[encoded data removed]",
      "text/plain": [
       "<matplotlib.figure.Figure at 0x7fadb9d18990>"
      ]
     },
     "metadata": {},
     "output_type": "display_data"
    },
    {
     "data": {
      "image/png": "[encoded data removed]",
      "text/plain": [
       "<matplotlib.figure.Figure at 0x7fadb94a2710>"
      ]
     },
     "metadata": {},
     "output_type": "display_data"
    },
    {
     "data": {
      "text/plain": [
       "<matplotlib.figure.Figure at 0x7fadb8ea1810>"
      ]
     },
     "metadata": {},
     "output_type": "display_data"
    },
    {
     "data": {
      "image/png": "[encoded data removed]",
      "text/plain": [
       "<matplotlib.figure.Figure at 0x7fadb94f1e90>"
      ]
     },
     "metadata": {},
     "output_type": "display_data"
    },
    {
     "data": {
      "image/png": "[encoded data removed]",
      "text/plain": [
       "<matplotlib.figure.Figure at 0x7fadc5073c90>"
      ]
     },
     "metadata": {},
     "output_type": "display_data"
    },
    {
     "data": {
      "image/png": "[encoded data removed]",
      "text/plain": [
       "<matplotlib.figure.Figure at 0x7fadb968b5d0>"
      ]
     },
     "metadata": {},
     "output_type": "display_data"
    },
    {
     "data": {
      "image/png": "[encoded data removed]",
      "text/plain": [
       "<matplotlib.figure.Figure at 0x7fadb9362ed0>"
      ]
     },
     "metadata": {},
     "output_type": "display_data"
    },
    {
     "data": {
      "text/html": [
       "<div>\n",
       "<style>\n",
       "    .dataframe thead tr:only-child th {\n",
       "        text-align: right;\n",
       "    }\n",
       "\n",
       "    .dataframe thead th {\n",
       "        text-align: left;\n",
       "    }\n",
       "\n",
       "    .dataframe tbody tr th {\n",
       "        vertical-align: top;\n",
       "    }\n",
       "</style>\n",
       "<table border=\"1\" class=\"dataframe\">\n",
       "  <thead>\n",
       "    <tr style=\"text-align: right;\">\n",
       "      <th></th>\n",
       "      <th>iteration</th>\n",
       "      <th>measure</th>\n",
       "      <th>mean</th>\n",
       "      <th>std</th>\n",
       "    </tr>\n",
       "  </thead>\n",
       "  <tbody>\n",
       "    <tr>\n",
       "      <th>41</th>\n",
       "      <td>2</td>\n",
       "      <td>train_average_precision</td>\n",
       "      <td>0.926594</td>\n",
       "      <td>0.028288</td>\n",
       "    </tr>\n",
       "    <tr>\n",
       "      <th>2</th>\n",
       "      <td>2</td>\n",
       "      <td>train_cost</td>\n",
       "      <td>0.137192</td>\n",
       "      <td>0.168467</td>\n",
       "    </tr>\n",
       "    <tr>\n",
       "      <th>32</th>\n",
       "      <td>2</td>\n",
       "      <td>train_f1_macro</td>\n",
       "      <td>0.792864</td>\n",
       "      <td>0.042069</td>\n",
       "    </tr>\n",
       "    <tr>\n",
       "      <th>44</th>\n",
       "      <td>2</td>\n",
       "      <td>train_kappa</td>\n",
       "      <td>0.600930</td>\n",
       "      <td>0.075489</td>\n",
       "    </tr>\n",
       "    <tr>\n",
       "      <th>26</th>\n",
       "      <td>2</td>\n",
       "      <td>train_precision_macro</td>\n",
       "      <td>0.846367</td>\n",
       "      <td>0.022578</td>\n",
       "    </tr>\n",
       "    <tr>\n",
       "      <th>11</th>\n",
       "      <td>2</td>\n",
       "      <td>train_recall_macro</td>\n",
       "      <td>0.800465</td>\n",
       "      <td>0.037745</td>\n",
       "    </tr>\n",
       "    <tr>\n",
       "      <th>17</th>\n",
       "      <td>2</td>\n",
       "      <td>train_saving</td>\n",
       "      <td>0.338949</td>\n",
       "      <td>0.095917</td>\n",
       "    </tr>\n",
       "  </tbody>\n",
       "</table>\n",
       "</div>"
      ],
      "text/plain": [
       "    iteration                  measure      mean       std\n",
       "41          2  train_average_precision  0.926594  0.028288\n",
       "2           2               train_cost  0.137192  0.168467\n",
       "32          2           train_f1_macro  0.792864  0.042069\n",
       "44          2              train_kappa  0.600930  0.075489\n",
       "26          2    train_precision_macro  0.846367  0.022578\n",
       "11          2       train_recall_macro  0.800465  0.037745\n",
       "17          2             train_saving  0.338949  0.095917"
      ]
     },
     "metadata": {},
     "output_type": "display_data"
    },
    {
     "data": {
      "text/html": [
       "<div>\n",
       "<style>\n",
       "    .dataframe thead tr:only-child th {\n",
       "        text-align: right;\n",
       "    }\n",
       "\n",
       "    .dataframe thead th {\n",
       "        text-align: left;\n",
       "    }\n",
       "\n",
       "    .dataframe tbody tr th {\n",
       "        vertical-align: top;\n",
       "    }\n",
       "</style>\n",
       "<table border=\"1\" class=\"dataframe\">\n",
       "  <thead>\n",
       "    <tr style=\"text-align: right;\">\n",
       "      <th></th>\n",
       "      <th>iteration</th>\n",
       "      <th>measure</th>\n",
       "      <th>mean</th>\n",
       "      <th>std</th>\n",
       "    </tr>\n",
       "  </thead>\n",
       "  <tbody>\n",
       "    <tr>\n",
       "      <th>38</th>\n",
       "      <td>2</td>\n",
       "      <td>test_average_precision</td>\n",
       "      <td>0.891279</td>\n",
       "      <td>0.025601</td>\n",
       "    </tr>\n",
       "    <tr>\n",
       "      <th>47</th>\n",
       "      <td>2</td>\n",
       "      <td>test_cost</td>\n",
       "      <td>2.471063</td>\n",
       "      <td>2.807642</td>\n",
       "    </tr>\n",
       "    <tr>\n",
       "      <th>29</th>\n",
       "      <td>2</td>\n",
       "      <td>test_f1_macro</td>\n",
       "      <td>0.767366</td>\n",
       "      <td>0.032657</td>\n",
       "    </tr>\n",
       "    <tr>\n",
       "      <th>23</th>\n",
       "      <td>2</td>\n",
       "      <td>test_kappa</td>\n",
       "      <td>0.550763</td>\n",
       "      <td>0.056892</td>\n",
       "    </tr>\n",
       "    <tr>\n",
       "      <th>8</th>\n",
       "      <td>2</td>\n",
       "      <td>test_precision_macro</td>\n",
       "      <td>0.816509</td>\n",
       "      <td>0.021006</td>\n",
       "    </tr>\n",
       "    <tr>\n",
       "      <th>20</th>\n",
       "      <td>2</td>\n",
       "      <td>test_recall_macro</td>\n",
       "      <td>0.775381</td>\n",
       "      <td>0.028446</td>\n",
       "    </tr>\n",
       "    <tr>\n",
       "      <th>35</th>\n",
       "      <td>2</td>\n",
       "      <td>test_saving</td>\n",
       "      <td>-4.067768</td>\n",
       "      <td>5.509327</td>\n",
       "    </tr>\n",
       "  </tbody>\n",
       "</table>\n",
       "</div>"
      ],
      "text/plain": [
       "    iteration                 measure      mean       std\n",
       "38          2  test_average_precision  0.891279  0.025601\n",
       "47          2               test_cost  2.471063  2.807642\n",
       "29          2           test_f1_macro  0.767366  0.032657\n",
       "23          2              test_kappa  0.550763  0.056892\n",
       "8           2    test_precision_macro  0.816509  0.021006\n",
       "20          2       test_recall_macro  0.775381  0.028446\n",
       "35          2             test_saving -4.067768  5.509327"
      ]
     },
     "metadata": {},
     "output_type": "display_data"
    }
   ],
   "source": [
    "plotPerformanceConvergence(wscores,wdf_results,3)"
   ]
  },
  {
   "cell_type": "markdown",
   "metadata": {},
   "source": [
    "\n",
    "This models seem lees prone to overfitting, both *cost* and *savings* have scores better than the unweighted version. The model lost performance regarding precision (average_precision),  but compensated with finantial gain. The cost of the test set reduced from 2.97 to 1.72. There was a similar improvement in the savings measurement of the test set from -2.3 to -0.91. It is a good improvement however is not positive yet."
   ]
  },
  {
   "cell_type": "markdown",
   "metadata": {},
   "source": [
    "## Final model\n",
    "\n",
    "We had determined the cutoff probability as cutoff=0.12, however we are going to apply the model to a dataset with a different underlining distribuition that can change the cutoff to a lower value since the majority class will become more proeminent.\n",
    "There are several probability cutoff procedures$^1$ (Pozzolo et al) that could be followed in the future, now we will content to the current value.\n"
   ]
  },
  {
   "cell_type": "code",
   "execution_count": 137,
   "metadata": {
    "collapsed": true
   },
   "outputs": [],
   "source": []
  },
  {
   "cell_type": "code",
   "execution_count": null,
   "metadata": {
    "collapsed": true
   },
   "outputs": [],
   "source": [
    "from sklearn.metrics import average_precision_score,f1_score,recall_score,precision_score"
   ]
  },
  {
   "cell_type": "code",
   "execution_count": 138,
   "metadata": {
    "collapsed": true
   },
   "outputs": [],
   "source": [
    "scoring = {'precision_macro':(precision_score),\n",
    "               'recall_macro':(recall_score),\n",
    "               'f1_macro':(f1_score),\n",
    "               'average_precision':(average_precision_score)\n",
    "               }\n",
    "cost_mat=cond(X_under)\n",
    "np.random.seed(2814)\n",
    "csr = CostSensitiveRandomForestClassifier(n_estimators=10)\n",
    "frfc = RandomForestClassifier(n_estimators=10,random_state=2814)"
   ]
  },
  {
   "cell_type": "code",
   "execution_count": 139,
   "metadata": {
    "collapsed": true
   },
   "outputs": [],
   "source": [
    "np.random.seed(2814)\n",
    "cost_fit=csr.fit(np.array(X_under),np.array(Y_under),cost_mat=np.array(cost_mat))\n",
    "rfc_fit=frfc.fit(X_under,Y_under)"
   ]
  },
  {
   "cell_type": "code",
   "execution_count": 142,
   "metadata": {
    "collapsed": true
   },
   "outputs": [],
   "source": [
    "\n",
    "def calcPred(model,X,cutoff):\n",
    "    return((model.predict_proba(np.array(X)) > cutoff)[:,1]+0)\n",
    "def scorer(score,y_true,y_pred):\n",
    "    return score(np.array(y_true),np.array(y_pred),average='macro')\n",
    "def final(estimator,X,y_true,cutoff,scoring):\n",
    "    y_pred=calcPred(estimator,X_test,cutoff)\n",
    "    cost_mat=cond(X)\n",
    "    r=[(s,scorer(scoring[s],np.array(y_true),y_pred)) for s in scoring.keys()]+[('kappa',metrics.cohen_kappa_score(y_true,y_pred))]\n",
    "    r=r+[('savings',savings_score(y_true,y_pred,cost_mat))]+[('costs',costPerformance(X,y_true,y_pred))]\n",
    "    return(r)"
   ]
  },
  {
   "cell_type": "code",
   "execution_count": 143,
   "metadata": {
    "collapsed": true
   },
   "outputs": [],
   "source": [
    "estimators=dict({'cost':cost_fit,'normal':rfc_fit})"
   ]
  },
  {
   "cell_type": "code",
   "execution_count": 144,
   "metadata": {
    "collapsed": true
   },
   "outputs": [],
   "source": [
    "def Summary(cutoff,estimators,X_test,Y_test,scoring):\n",
    "    X_test=np.array(X_test)\n",
    "    finalResults=[final(estimators[estimator],X_test,Y_test,cutoff,scoring) for estimator in estimators.keys() ]\n",
    "    display(pd.DataFrame(finalResults[0],columns=[\"measure\",\"cost weighted\"]))\n",
    "    display(pd.DataFrame(finalResults[1],columns=[\"measure\",\"normal\"]))\n",
    "    "
   ]
  },
  {
   "cell_type": "code",
   "execution_count": 155,
   "metadata": {},
   "outputs": [
    {
     "data": {
      "text/html": [
       "<div>\n",
       "<style>\n",
       "    .dataframe thead tr:only-child th {\n",
       "        text-align: right;\n",
       "    }\n",
       "\n",
       "    .dataframe thead th {\n",
       "        text-align: left;\n",
       "    }\n",
       "\n",
       "    .dataframe tbody tr th {\n",
       "        vertical-align: top;\n",
       "    }\n",
       "</style>\n",
       "<table border=\"1\" class=\"dataframe\">\n",
       "  <thead>\n",
       "    <tr style=\"text-align: right;\">\n",
       "      <th></th>\n",
       "      <th>measure</th>\n",
       "      <th>cost weighted</th>\n",
       "    </tr>\n",
       "  </thead>\n",
       "  <tbody>\n",
       "    <tr>\n",
       "      <th>0</th>\n",
       "      <td>precision_macro</td>\n",
       "      <td>0.500862</td>\n",
       "    </tr>\n",
       "    <tr>\n",
       "      <th>1</th>\n",
       "      <td>f1_macro</td>\n",
       "      <td>0.003704</td>\n",
       "    </tr>\n",
       "    <tr>\n",
       "      <th>2</th>\n",
       "      <td>recall_macro</td>\n",
       "      <td>0.500994</td>\n",
       "    </tr>\n",
       "    <tr>\n",
       "      <th>3</th>\n",
       "      <td>average_precision</td>\n",
       "      <td>0.001724</td>\n",
       "    </tr>\n",
       "    <tr>\n",
       "      <th>4</th>\n",
       "      <td>kappa</td>\n",
       "      <td>0.000007</td>\n",
       "    </tr>\n",
       "    <tr>\n",
       "      <th>5</th>\n",
       "      <td>savings</td>\n",
       "      <td>-3.694798</td>\n",
       "    </tr>\n",
       "    <tr>\n",
       "      <th>6</th>\n",
       "      <td>costs</td>\n",
       "      <td>0.000000</td>\n",
       "    </tr>\n",
       "  </tbody>\n",
       "</table>\n",
       "</div>"
      ],
      "text/plain": [
       "             measure  cost weighted\n",
       "0    precision_macro       0.500862\n",
       "1           f1_macro       0.003704\n",
       "2       recall_macro       0.500994\n",
       "3  average_precision       0.001724\n",
       "4              kappa       0.000007\n",
       "5            savings      -3.694798\n",
       "6              costs       0.000000"
      ]
     },
     "metadata": {},
     "output_type": "display_data"
    },
    {
     "data": {
      "text/html": [
       "<div>\n",
       "<style>\n",
       "    .dataframe thead tr:only-child th {\n",
       "        text-align: right;\n",
       "    }\n",
       "\n",
       "    .dataframe thead th {\n",
       "        text-align: left;\n",
       "    }\n",
       "\n",
       "    .dataframe tbody tr th {\n",
       "        vertical-align: top;\n",
       "    }\n",
       "</style>\n",
       "<table border=\"1\" class=\"dataframe\">\n",
       "  <thead>\n",
       "    <tr style=\"text-align: right;\">\n",
       "      <th></th>\n",
       "      <th>measure</th>\n",
       "      <th>normal</th>\n",
       "    </tr>\n",
       "  </thead>\n",
       "  <tbody>\n",
       "    <tr>\n",
       "      <th>0</th>\n",
       "      <td>precision_macro</td>\n",
       "      <td>0.503042</td>\n",
       "    </tr>\n",
       "    <tr>\n",
       "      <th>1</th>\n",
       "      <td>f1_macro</td>\n",
       "      <td>0.430770</td>\n",
       "    </tr>\n",
       "    <tr>\n",
       "      <th>2</th>\n",
       "      <td>recall_macro</td>\n",
       "      <td>0.843493</td>\n",
       "    </tr>\n",
       "    <tr>\n",
       "      <th>3</th>\n",
       "      <td>average_precision</td>\n",
       "      <td>0.005975</td>\n",
       "    </tr>\n",
       "    <tr>\n",
       "      <th>4</th>\n",
       "      <td>kappa</td>\n",
       "      <td>0.008939</td>\n",
       "    </tr>\n",
       "    <tr>\n",
       "      <th>5</th>\n",
       "      <td>savings</td>\n",
       "      <td>-0.253828</td>\n",
       "    </tr>\n",
       "    <tr>\n",
       "      <th>6</th>\n",
       "      <td>costs</td>\n",
       "      <td>0.266078</td>\n",
       "    </tr>\n",
       "  </tbody>\n",
       "</table>\n",
       "</div>"
      ],
      "text/plain": [
       "             measure    normal\n",
       "0    precision_macro  0.503042\n",
       "1           f1_macro  0.430770\n",
       "2       recall_macro  0.843493\n",
       "3  average_precision  0.005975\n",
       "4              kappa  0.008939\n",
       "5            savings -0.253828\n",
       "6              costs  0.266078"
      ]
     },
     "metadata": {},
     "output_type": "display_data"
    }
   ],
   "source": [
    "Summary(estimators=estimators,X_test=X_test,Y_test=Y_test,scoring=scoring,cutoff=0.12)"
   ]
  },
  {
   "cell_type": "code",
   "execution_count": 146,
   "metadata": {},
   "outputs": [
    {
     "data": {
      "text/html": [
       "<div>\n",
       "<style>\n",
       "    .dataframe thead tr:only-child th {\n",
       "        text-align: right;\n",
       "    }\n",
       "\n",
       "    .dataframe thead th {\n",
       "        text-align: left;\n",
       "    }\n",
       "\n",
       "    .dataframe tbody tr th {\n",
       "        vertical-align: top;\n",
       "    }\n",
       "</style>\n",
       "<table border=\"1\" class=\"dataframe\">\n",
       "  <thead>\n",
       "    <tr style=\"text-align: right;\">\n",
       "      <th></th>\n",
       "      <th>measure</th>\n",
       "      <th>cost weighted</th>\n",
       "    </tr>\n",
       "  </thead>\n",
       "  <tbody>\n",
       "    <tr>\n",
       "      <th>0</th>\n",
       "      <td>precision_macro</td>\n",
       "      <td>0.502174</td>\n",
       "    </tr>\n",
       "    <tr>\n",
       "      <th>1</th>\n",
       "      <td>f1_macro</td>\n",
       "      <td>0.386505</td>\n",
       "    </tr>\n",
       "    <tr>\n",
       "      <th>2</th>\n",
       "      <td>recall_macro</td>\n",
       "      <td>0.799025</td>\n",
       "    </tr>\n",
       "    <tr>\n",
       "      <th>3</th>\n",
       "      <td>average_precision</td>\n",
       "      <td>0.004350</td>\n",
       "    </tr>\n",
       "    <tr>\n",
       "      <th>4</th>\n",
       "      <td>kappa</td>\n",
       "      <td>0.005364</td>\n",
       "    </tr>\n",
       "    <tr>\n",
       "      <th>5</th>\n",
       "      <td>savings</td>\n",
       "      <td>-0.796526</td>\n",
       "    </tr>\n",
       "    <tr>\n",
       "      <th>6</th>\n",
       "      <td>costs</td>\n",
       "      <td>0.381246</td>\n",
       "    </tr>\n",
       "  </tbody>\n",
       "</table>\n",
       "</div>"
      ],
      "text/plain": [
       "             measure  cost weighted\n",
       "0    precision_macro       0.502174\n",
       "1           f1_macro       0.386505\n",
       "2       recall_macro       0.799025\n",
       "3  average_precision       0.004350\n",
       "4              kappa       0.005364\n",
       "5            savings      -0.796526\n",
       "6              costs       0.381246"
      ]
     },
     "metadata": {},
     "output_type": "display_data"
    },
    {
     "data": {
      "text/html": [
       "<div>\n",
       "<style>\n",
       "    .dataframe thead tr:only-child th {\n",
       "        text-align: right;\n",
       "    }\n",
       "\n",
       "    .dataframe thead th {\n",
       "        text-align: left;\n",
       "    }\n",
       "\n",
       "    .dataframe tbody tr th {\n",
       "        vertical-align: top;\n",
       "    }\n",
       "</style>\n",
       "<table border=\"1\" class=\"dataframe\">\n",
       "  <thead>\n",
       "    <tr style=\"text-align: right;\">\n",
       "      <th></th>\n",
       "      <th>measure</th>\n",
       "      <th>normal</th>\n",
       "    </tr>\n",
       "  </thead>\n",
       "  <tbody>\n",
       "    <tr>\n",
       "      <th>0</th>\n",
       "      <td>precision_macro</td>\n",
       "      <td>0.523324</td>\n",
       "    </tr>\n",
       "    <tr>\n",
       "      <th>1</th>\n",
       "      <td>f1_macro</td>\n",
       "      <td>0.536628</td>\n",
       "    </tr>\n",
       "    <tr>\n",
       "      <th>2</th>\n",
       "      <td>recall_macro</td>\n",
       "      <td>0.923397</td>\n",
       "    </tr>\n",
       "    <tr>\n",
       "      <th>3</th>\n",
       "      <td>average_precision</td>\n",
       "      <td>0.041338</td>\n",
       "    </tr>\n",
       "    <tr>\n",
       "      <th>4</th>\n",
       "      <td>kappa</td>\n",
       "      <td>0.085995</td>\n",
       "    </tr>\n",
       "    <tr>\n",
       "      <th>5</th>\n",
       "      <td>savings</td>\n",
       "      <td>0.773439</td>\n",
       "    </tr>\n",
       "    <tr>\n",
       "      <th>6</th>\n",
       "      <td>costs</td>\n",
       "      <td>0.048079</td>\n",
       "    </tr>\n",
       "  </tbody>\n",
       "</table>\n",
       "</div>"
      ],
      "text/plain": [
       "             measure    normal\n",
       "0    precision_macro  0.523324\n",
       "1           f1_macro  0.536628\n",
       "2       recall_macro  0.923397\n",
       "3  average_precision  0.041338\n",
       "4              kappa  0.085995\n",
       "5            savings  0.773439\n",
       "6              costs  0.048079"
      ]
     },
     "metadata": {},
     "output_type": "display_data"
    }
   ],
   "source": [
    "Summary(estimators=estimators,X_test=X_test,Y_test=Y_test,scoring=scoring,cutoff=0.5)"
   ]
  },
  {
   "cell_type": "markdown",
   "metadata": {},
   "source": [
    "## Remarks\n",
    "In this notebook we compared two random forest models applied to a fraud detection problem. Due to class unbalance we  downsized the majority class down to 9 times the minority class sample size. We include two cost related measures in the algorithm. At first the cost weighted model seemed to perform better than the usual random forest, upon closer inspection the unweighted model performed better in all accounts. The weighted model failed to generalize the good results of the training set to new data. One possible explanation to this lack of performance is related with the negative savings found. This negative value may occur due to incomplete code in the package used. Code inspection revealed that in the tree spliting process one does not check for the zero value cost weight. \n",
    "The regular random forest performed really well to the unbalanced data using default parameters (aside from n_estimators). The cost due to fraud alone can be calculated as:"
   ]
  },
  {
   "cell_type": "code",
   "execution_count": null,
   "metadata": {},
   "outputs": [],
   "source": [
    "Total_Fraud_cost_per_transaction=int(sum(y_all*X_all.Amount)/len(y_all)*100)\n",
    "Total_Fraud_cost_per_transaction"
   ]
  },
  {
   "cell_type": "markdown",
   "metadata": {},
   "source": [
    "The best performing algorithm reduced this value down to $0.03$, $86$% cost reduction. It should be interesting to see if this value could be futher reduced using different parameters, algorithms, or sampling tecniques."
   ]
  },
  {
   "cell_type": "markdown",
   "metadata": {},
   "source": [
    "## Other References\n",
    "2. http://bigdata-madesimple.com/dealing-with-unbalanced-class-svm-random-forest-and-decision-tree-in-python/\n",
    "3. http://scikit-learn.org/stable/modules/cross_validation.html\n",
    "4. http://www.clips.uantwerpen.be/~vincent/pdf/microaverage.pdf"
   ]
  },
  {
   "cell_type": "code",
   "execution_count": null,
   "metadata": {
    "collapsed": true
   },
   "outputs": [],
   "source": []
  },
  {
   "cell_type": "code",
   "execution_count": null,
   "metadata": {
    "collapsed": true
   },
   "outputs": [],
   "source": []
  }
 ],
 "metadata": {
  "kernelspec": {
   "display_name": "Python 2",
   "language": "python",
   "name": "python2"
  },
  "language_info": {
   "codemirror_mode": {
    "name": "ipython",
    "version": 2
   },
   "file_extension": ".py",
   "mimetype": "text/x-python",
   "name": "python",
   "nbconvert_exporter": "python",
   "pygments_lexer": "ipython2",
   "version": "2.7.12"
  },
  "name": ""
 },
 "nbformat": 4,
 "nbformat_minor": 1
}
